{
 "cells": [
  {
   "cell_type": "markdown",
   "id": "6b3b12dc-de6a-43ee-993b-430ca5ba9004",
   "metadata": {},
   "source": [
    "### NN Exploration in Pytorch ###\n",
    "We learn to fit simple classifiers on tabular data using pytorch. We eventually move to fast.ai framework to see how it simplifies this process. A very small dataset called \"Titanic\" is used here. \n",
    "https://www.kaggle.com/competitions/titanic/"
   ]
  },
  {
   "cell_type": "code",
   "execution_count": 1,
   "id": "bffa78f2-0c97-4dcc-a95c-f49472c3247b",
   "metadata": {},
   "outputs": [],
   "source": [
    "import os\n",
    "from pathlib import Path"
   ]
  },
  {
   "cell_type": "code",
   "execution_count": 2,
   "id": "4687d09a-21e2-49e2-9e5c-cb5d202b0366",
   "metadata": {},
   "outputs": [],
   "source": [
    "path = Path(\"titanic\")\n",
    "if not path.exists():\n",
    "    import kaggle,zipfile\n",
    "    kaggle.api.competition_download_cli(str(path))\n",
    "    zipfile.ZipFile(f'{path}.zip').extractall(path)"
   ]
  },
  {
   "cell_type": "code",
   "execution_count": 3,
   "id": "ee7d6cfd-105c-4c13-ae75-af25b5dd28eb",
   "metadata": {},
   "outputs": [
    {
     "name": "stdout",
     "output_type": "stream",
     "text": [
      "README.md  SimpleNNOnTitanic.ipynb  submission.csv  titanic  titanic.zip\n"
     ]
    }
   ],
   "source": [
    "!ls"
   ]
  },
  {
   "cell_type": "code",
   "execution_count": 4,
   "id": "2feb5bd0-89de-4594-b85f-8cbe20c6dacb",
   "metadata": {},
   "outputs": [],
   "source": [
    "import numpy as np, pandas as pd\n",
    "import torch"
   ]
  },
  {
   "cell_type": "code",
   "execution_count": 5,
   "id": "44dcaa64-a0de-43ed-81e1-5f7728a6d6b1",
   "metadata": {},
   "outputs": [],
   "source": [
    "np.set_printoptions(linewidth=140)\n",
    "torch.set_printoptions(linewidth=140,sci_mode=False,edgeitems=5)\n",
    "pd.set_option('display.width',140)"
   ]
  },
  {
   "cell_type": "code",
   "execution_count": 6,
   "id": "5b0e50d5-ee71-4200-8df4-572e801d10c6",
   "metadata": {},
   "outputs": [],
   "source": [
    "df = pd.read_csv(path/\"train.csv\")"
   ]
  },
  {
   "cell_type": "code",
   "execution_count": 7,
   "id": "0dc79d25-c088-4a83-b120-1e5021c10531",
   "metadata": {},
   "outputs": [
    {
     "data": {
      "text/html": [
       "<div>\n",
       "<style scoped>\n",
       "    .dataframe tbody tr th:only-of-type {\n",
       "        vertical-align: middle;\n",
       "    }\n",
       "\n",
       "    .dataframe tbody tr th {\n",
       "        vertical-align: top;\n",
       "    }\n",
       "\n",
       "    .dataframe thead th {\n",
       "        text-align: right;\n",
       "    }\n",
       "</style>\n",
       "<table border=\"1\" class=\"dataframe\">\n",
       "  <thead>\n",
       "    <tr style=\"text-align: right;\">\n",
       "      <th></th>\n",
       "      <th>PassengerId</th>\n",
       "      <th>Survived</th>\n",
       "      <th>Pclass</th>\n",
       "      <th>Name</th>\n",
       "      <th>Sex</th>\n",
       "      <th>Age</th>\n",
       "      <th>SibSp</th>\n",
       "      <th>Parch</th>\n",
       "      <th>Ticket</th>\n",
       "      <th>Fare</th>\n",
       "      <th>Cabin</th>\n",
       "      <th>Embarked</th>\n",
       "    </tr>\n",
       "  </thead>\n",
       "  <tbody>\n",
       "    <tr>\n",
       "      <th>0</th>\n",
       "      <td>1</td>\n",
       "      <td>0</td>\n",
       "      <td>3</td>\n",
       "      <td>Braund, Mr. Owen Harris</td>\n",
       "      <td>male</td>\n",
       "      <td>22.0</td>\n",
       "      <td>1</td>\n",
       "      <td>0</td>\n",
       "      <td>A/5 21171</td>\n",
       "      <td>7.2500</td>\n",
       "      <td>NaN</td>\n",
       "      <td>S</td>\n",
       "    </tr>\n",
       "    <tr>\n",
       "      <th>1</th>\n",
       "      <td>2</td>\n",
       "      <td>1</td>\n",
       "      <td>1</td>\n",
       "      <td>Cumings, Mrs. John Bradley (Florence Briggs Th...</td>\n",
       "      <td>female</td>\n",
       "      <td>38.0</td>\n",
       "      <td>1</td>\n",
       "      <td>0</td>\n",
       "      <td>PC 17599</td>\n",
       "      <td>71.2833</td>\n",
       "      <td>C85</td>\n",
       "      <td>C</td>\n",
       "    </tr>\n",
       "    <tr>\n",
       "      <th>2</th>\n",
       "      <td>3</td>\n",
       "      <td>1</td>\n",
       "      <td>3</td>\n",
       "      <td>Heikkinen, Miss. Laina</td>\n",
       "      <td>female</td>\n",
       "      <td>26.0</td>\n",
       "      <td>0</td>\n",
       "      <td>0</td>\n",
       "      <td>STON/O2. 3101282</td>\n",
       "      <td>7.9250</td>\n",
       "      <td>NaN</td>\n",
       "      <td>S</td>\n",
       "    </tr>\n",
       "    <tr>\n",
       "      <th>3</th>\n",
       "      <td>4</td>\n",
       "      <td>1</td>\n",
       "      <td>1</td>\n",
       "      <td>Futrelle, Mrs. Jacques Heath (Lily May Peel)</td>\n",
       "      <td>female</td>\n",
       "      <td>35.0</td>\n",
       "      <td>1</td>\n",
       "      <td>0</td>\n",
       "      <td>113803</td>\n",
       "      <td>53.1000</td>\n",
       "      <td>C123</td>\n",
       "      <td>S</td>\n",
       "    </tr>\n",
       "    <tr>\n",
       "      <th>4</th>\n",
       "      <td>5</td>\n",
       "      <td>0</td>\n",
       "      <td>3</td>\n",
       "      <td>Allen, Mr. William Henry</td>\n",
       "      <td>male</td>\n",
       "      <td>35.0</td>\n",
       "      <td>0</td>\n",
       "      <td>0</td>\n",
       "      <td>373450</td>\n",
       "      <td>8.0500</td>\n",
       "      <td>NaN</td>\n",
       "      <td>S</td>\n",
       "    </tr>\n",
       "    <tr>\n",
       "      <th>...</th>\n",
       "      <td>...</td>\n",
       "      <td>...</td>\n",
       "      <td>...</td>\n",
       "      <td>...</td>\n",
       "      <td>...</td>\n",
       "      <td>...</td>\n",
       "      <td>...</td>\n",
       "      <td>...</td>\n",
       "      <td>...</td>\n",
       "      <td>...</td>\n",
       "      <td>...</td>\n",
       "      <td>...</td>\n",
       "    </tr>\n",
       "    <tr>\n",
       "      <th>886</th>\n",
       "      <td>887</td>\n",
       "      <td>0</td>\n",
       "      <td>2</td>\n",
       "      <td>Montvila, Rev. Juozas</td>\n",
       "      <td>male</td>\n",
       "      <td>27.0</td>\n",
       "      <td>0</td>\n",
       "      <td>0</td>\n",
       "      <td>211536</td>\n",
       "      <td>13.0000</td>\n",
       "      <td>NaN</td>\n",
       "      <td>S</td>\n",
       "    </tr>\n",
       "    <tr>\n",
       "      <th>887</th>\n",
       "      <td>888</td>\n",
       "      <td>1</td>\n",
       "      <td>1</td>\n",
       "      <td>Graham, Miss. Margaret Edith</td>\n",
       "      <td>female</td>\n",
       "      <td>19.0</td>\n",
       "      <td>0</td>\n",
       "      <td>0</td>\n",
       "      <td>112053</td>\n",
       "      <td>30.0000</td>\n",
       "      <td>B42</td>\n",
       "      <td>S</td>\n",
       "    </tr>\n",
       "    <tr>\n",
       "      <th>888</th>\n",
       "      <td>889</td>\n",
       "      <td>0</td>\n",
       "      <td>3</td>\n",
       "      <td>Johnston, Miss. Catherine Helen \"Carrie\"</td>\n",
       "      <td>female</td>\n",
       "      <td>NaN</td>\n",
       "      <td>1</td>\n",
       "      <td>2</td>\n",
       "      <td>W./C. 6607</td>\n",
       "      <td>23.4500</td>\n",
       "      <td>NaN</td>\n",
       "      <td>S</td>\n",
       "    </tr>\n",
       "    <tr>\n",
       "      <th>889</th>\n",
       "      <td>890</td>\n",
       "      <td>1</td>\n",
       "      <td>1</td>\n",
       "      <td>Behr, Mr. Karl Howell</td>\n",
       "      <td>male</td>\n",
       "      <td>26.0</td>\n",
       "      <td>0</td>\n",
       "      <td>0</td>\n",
       "      <td>111369</td>\n",
       "      <td>30.0000</td>\n",
       "      <td>C148</td>\n",
       "      <td>C</td>\n",
       "    </tr>\n",
       "    <tr>\n",
       "      <th>890</th>\n",
       "      <td>891</td>\n",
       "      <td>0</td>\n",
       "      <td>3</td>\n",
       "      <td>Dooley, Mr. Patrick</td>\n",
       "      <td>male</td>\n",
       "      <td>32.0</td>\n",
       "      <td>0</td>\n",
       "      <td>0</td>\n",
       "      <td>370376</td>\n",
       "      <td>7.7500</td>\n",
       "      <td>NaN</td>\n",
       "      <td>Q</td>\n",
       "    </tr>\n",
       "  </tbody>\n",
       "</table>\n",
       "<p>891 rows × 12 columns</p>\n",
       "</div>"
      ],
      "text/plain": [
       "     PassengerId  Survived  Pclass                                               Name     Sex   Age  SibSp  Parch            Ticket  \\\n",
       "0              1         0       3                            Braund, Mr. Owen Harris    male  22.0      1      0         A/5 21171   \n",
       "1              2         1       1  Cumings, Mrs. John Bradley (Florence Briggs Th...  female  38.0      1      0          PC 17599   \n",
       "2              3         1       3                             Heikkinen, Miss. Laina  female  26.0      0      0  STON/O2. 3101282   \n",
       "3              4         1       1       Futrelle, Mrs. Jacques Heath (Lily May Peel)  female  35.0      1      0            113803   \n",
       "4              5         0       3                           Allen, Mr. William Henry    male  35.0      0      0            373450   \n",
       "..           ...       ...     ...                                                ...     ...   ...    ...    ...               ...   \n",
       "886          887         0       2                              Montvila, Rev. Juozas    male  27.0      0      0            211536   \n",
       "887          888         1       1                       Graham, Miss. Margaret Edith  female  19.0      0      0            112053   \n",
       "888          889         0       3           Johnston, Miss. Catherine Helen \"Carrie\"  female   NaN      1      2        W./C. 6607   \n",
       "889          890         1       1                              Behr, Mr. Karl Howell    male  26.0      0      0            111369   \n",
       "890          891         0       3                                Dooley, Mr. Patrick    male  32.0      0      0            370376   \n",
       "\n",
       "        Fare Cabin Embarked  \n",
       "0     7.2500   NaN        S  \n",
       "1    71.2833   C85        C  \n",
       "2     7.9250   NaN        S  \n",
       "3    53.1000  C123        S  \n",
       "4     8.0500   NaN        S  \n",
       "..       ...   ...      ...  \n",
       "886  13.0000   NaN        S  \n",
       "887  30.0000   B42        S  \n",
       "888  23.4500   NaN        S  \n",
       "889  30.0000  C148        C  \n",
       "890   7.7500   NaN        Q  \n",
       "\n",
       "[891 rows x 12 columns]"
      ]
     },
     "execution_count": 7,
     "metadata": {},
     "output_type": "execute_result"
    }
   ],
   "source": [
    "df"
   ]
  },
  {
   "cell_type": "code",
   "execution_count": 8,
   "id": "27f519c9-f271-4a3e-b545-a59cd0ba89f7",
   "metadata": {},
   "outputs": [
    {
     "data": {
      "text/plain": [
       "PassengerId      0\n",
       "Survived         0\n",
       "Pclass           0\n",
       "Name             0\n",
       "Sex              0\n",
       "Age            177\n",
       "SibSp            0\n",
       "Parch            0\n",
       "Ticket           0\n",
       "Fare             0\n",
       "Cabin          687\n",
       "Embarked         2\n",
       "dtype: int64"
      ]
     },
     "execution_count": 8,
     "metadata": {},
     "output_type": "execute_result"
    }
   ],
   "source": [
    "df.isna().sum()\n",
    "## missing data => 177 out of 891 people have missing age, 687 has missing cabin etc."
   ]
  },
  {
   "cell_type": "markdown",
   "id": "59165a30-e99d-4c38-92ab-25639d4c7095",
   "metadata": {},
   "source": [
    "Model Idea: We start with a simple model. Numericalized input matrix x Some weights => predictions. Each row in this \"input matrix\" represents data corresponding to a passenger. Prediction is 0/1 depending on whether they survived. To do this, we need to handle missing data. Easy way is to replace each missing column value with its mode"
   ]
  },
  {
   "cell_type": "code",
   "execution_count": 9,
   "id": "0a54c5a0-7e2b-4385-afd8-ddb1aa1220e6",
   "metadata": {},
   "outputs": [
    {
     "data": {
      "text/plain": [
       "PassengerId                      1\n",
       "Survived                       0.0\n",
       "Pclass                         3.0\n",
       "Name           Abbing, Mr. Anthony\n",
       "Sex                           male\n",
       "Age                           24.0\n",
       "SibSp                          0.0\n",
       "Parch                          0.0\n",
       "Ticket                        1601\n",
       "Fare                          8.05\n",
       "Cabin                      B96 B98\n",
       "Embarked                         S\n",
       "Name: 0, dtype: object"
      ]
     },
     "execution_count": 9,
     "metadata": {},
     "output_type": "execute_result"
    }
   ],
   "source": [
    "df.mode().iloc[0] ## take the top row of \"mode\" to break ties"
   ]
  },
  {
   "cell_type": "code",
   "execution_count": 10,
   "id": "b0a39e00-5b67-4eea-8c94-856fe15ff421",
   "metadata": {},
   "outputs": [],
   "source": [
    "modes = df.mode().iloc[0]"
   ]
  },
  {
   "cell_type": "code",
   "execution_count": 11,
   "id": "0c785eae-2000-46ae-8e3d-371b44489b05",
   "metadata": {},
   "outputs": [],
   "source": [
    "## replace missing values with modes in-place\n",
    "df.fillna(modes,inplace=True)"
   ]
  },
  {
   "cell_type": "code",
   "execution_count": 12,
   "id": "7848d2b0-4a81-4321-b53a-3f9619aadfa7",
   "metadata": {},
   "outputs": [
    {
     "data": {
      "text/plain": [
       "PassengerId    0\n",
       "Survived       0\n",
       "Pclass         0\n",
       "Name           0\n",
       "Sex            0\n",
       "Age            0\n",
       "SibSp          0\n",
       "Parch          0\n",
       "Ticket         0\n",
       "Fare           0\n",
       "Cabin          0\n",
       "Embarked       0\n",
       "dtype: int64"
      ]
     },
     "execution_count": 12,
     "metadata": {},
     "output_type": "execute_result"
    }
   ],
   "source": [
    "df.isna().sum() ## no more missing values"
   ]
  },
  {
   "cell_type": "code",
   "execution_count": 13,
   "id": "6167129f-624f-46a4-a52a-7317762a767a",
   "metadata": {},
   "outputs": [
    {
     "data": {
      "text/html": [
       "<div>\n",
       "<style scoped>\n",
       "    .dataframe tbody tr th:only-of-type {\n",
       "        vertical-align: middle;\n",
       "    }\n",
       "\n",
       "    .dataframe tbody tr th {\n",
       "        vertical-align: top;\n",
       "    }\n",
       "\n",
       "    .dataframe thead th {\n",
       "        text-align: right;\n",
       "    }\n",
       "</style>\n",
       "<table border=\"1\" class=\"dataframe\">\n",
       "  <thead>\n",
       "    <tr style=\"text-align: right;\">\n",
       "      <th></th>\n",
       "      <th>Name</th>\n",
       "      <th>Sex</th>\n",
       "      <th>Ticket</th>\n",
       "      <th>Cabin</th>\n",
       "      <th>Embarked</th>\n",
       "    </tr>\n",
       "  </thead>\n",
       "  <tbody>\n",
       "    <tr>\n",
       "      <th>count</th>\n",
       "      <td>891</td>\n",
       "      <td>891</td>\n",
       "      <td>891</td>\n",
       "      <td>891</td>\n",
       "      <td>891</td>\n",
       "    </tr>\n",
       "    <tr>\n",
       "      <th>unique</th>\n",
       "      <td>891</td>\n",
       "      <td>2</td>\n",
       "      <td>681</td>\n",
       "      <td>147</td>\n",
       "      <td>3</td>\n",
       "    </tr>\n",
       "    <tr>\n",
       "      <th>top</th>\n",
       "      <td>Braund, Mr. Owen Harris</td>\n",
       "      <td>male</td>\n",
       "      <td>347082</td>\n",
       "      <td>B96 B98</td>\n",
       "      <td>S</td>\n",
       "    </tr>\n",
       "    <tr>\n",
       "      <th>freq</th>\n",
       "      <td>1</td>\n",
       "      <td>577</td>\n",
       "      <td>7</td>\n",
       "      <td>691</td>\n",
       "      <td>646</td>\n",
       "    </tr>\n",
       "  </tbody>\n",
       "</table>\n",
       "</div>"
      ],
      "text/plain": [
       "                           Name   Sex  Ticket    Cabin Embarked\n",
       "count                       891   891     891      891      891\n",
       "unique                      891     2     681      147        3\n",
       "top     Braund, Mr. Owen Harris  male  347082  B96 B98        S\n",
       "freq                          1   577       7      691      646"
      ]
     },
     "execution_count": 13,
     "metadata": {},
     "output_type": "execute_result"
    }
   ],
   "source": [
    "df.describe(include=object) ## catagorical data"
   ]
  },
  {
   "cell_type": "code",
   "execution_count": 14,
   "id": "7b963207-66c0-48ca-a012-ad19467949ea",
   "metadata": {},
   "outputs": [
    {
     "data": {
      "text/html": [
       "<div>\n",
       "<style scoped>\n",
       "    .dataframe tbody tr th:only-of-type {\n",
       "        vertical-align: middle;\n",
       "    }\n",
       "\n",
       "    .dataframe tbody tr th {\n",
       "        vertical-align: top;\n",
       "    }\n",
       "\n",
       "    .dataframe thead th {\n",
       "        text-align: right;\n",
       "    }\n",
       "</style>\n",
       "<table border=\"1\" class=\"dataframe\">\n",
       "  <thead>\n",
       "    <tr style=\"text-align: right;\">\n",
       "      <th></th>\n",
       "      <th>PassengerId</th>\n",
       "      <th>Survived</th>\n",
       "      <th>Pclass</th>\n",
       "      <th>Age</th>\n",
       "      <th>SibSp</th>\n",
       "      <th>Parch</th>\n",
       "      <th>Fare</th>\n",
       "    </tr>\n",
       "  </thead>\n",
       "  <tbody>\n",
       "    <tr>\n",
       "      <th>count</th>\n",
       "      <td>891.000000</td>\n",
       "      <td>891.000000</td>\n",
       "      <td>891.000000</td>\n",
       "      <td>891.000000</td>\n",
       "      <td>891.000000</td>\n",
       "      <td>891.000000</td>\n",
       "      <td>891.000000</td>\n",
       "    </tr>\n",
       "    <tr>\n",
       "      <th>mean</th>\n",
       "      <td>446.000000</td>\n",
       "      <td>0.383838</td>\n",
       "      <td>2.308642</td>\n",
       "      <td>28.566970</td>\n",
       "      <td>0.523008</td>\n",
       "      <td>0.381594</td>\n",
       "      <td>32.204208</td>\n",
       "    </tr>\n",
       "    <tr>\n",
       "      <th>std</th>\n",
       "      <td>257.353842</td>\n",
       "      <td>0.486592</td>\n",
       "      <td>0.836071</td>\n",
       "      <td>13.199572</td>\n",
       "      <td>1.102743</td>\n",
       "      <td>0.806057</td>\n",
       "      <td>49.693429</td>\n",
       "    </tr>\n",
       "    <tr>\n",
       "      <th>min</th>\n",
       "      <td>1.000000</td>\n",
       "      <td>0.000000</td>\n",
       "      <td>1.000000</td>\n",
       "      <td>0.420000</td>\n",
       "      <td>0.000000</td>\n",
       "      <td>0.000000</td>\n",
       "      <td>0.000000</td>\n",
       "    </tr>\n",
       "    <tr>\n",
       "      <th>25%</th>\n",
       "      <td>223.500000</td>\n",
       "      <td>0.000000</td>\n",
       "      <td>2.000000</td>\n",
       "      <td>22.000000</td>\n",
       "      <td>0.000000</td>\n",
       "      <td>0.000000</td>\n",
       "      <td>7.910400</td>\n",
       "    </tr>\n",
       "    <tr>\n",
       "      <th>50%</th>\n",
       "      <td>446.000000</td>\n",
       "      <td>0.000000</td>\n",
       "      <td>3.000000</td>\n",
       "      <td>24.000000</td>\n",
       "      <td>0.000000</td>\n",
       "      <td>0.000000</td>\n",
       "      <td>14.454200</td>\n",
       "    </tr>\n",
       "    <tr>\n",
       "      <th>75%</th>\n",
       "      <td>668.500000</td>\n",
       "      <td>1.000000</td>\n",
       "      <td>3.000000</td>\n",
       "      <td>35.000000</td>\n",
       "      <td>1.000000</td>\n",
       "      <td>0.000000</td>\n",
       "      <td>31.000000</td>\n",
       "    </tr>\n",
       "    <tr>\n",
       "      <th>max</th>\n",
       "      <td>891.000000</td>\n",
       "      <td>1.000000</td>\n",
       "      <td>3.000000</td>\n",
       "      <td>80.000000</td>\n",
       "      <td>8.000000</td>\n",
       "      <td>6.000000</td>\n",
       "      <td>512.329200</td>\n",
       "    </tr>\n",
       "  </tbody>\n",
       "</table>\n",
       "</div>"
      ],
      "text/plain": [
       "       PassengerId    Survived      Pclass         Age       SibSp       Parch        Fare\n",
       "count   891.000000  891.000000  891.000000  891.000000  891.000000  891.000000  891.000000\n",
       "mean    446.000000    0.383838    2.308642   28.566970    0.523008    0.381594   32.204208\n",
       "std     257.353842    0.486592    0.836071   13.199572    1.102743    0.806057   49.693429\n",
       "min       1.000000    0.000000    1.000000    0.420000    0.000000    0.000000    0.000000\n",
       "25%     223.500000    0.000000    2.000000   22.000000    0.000000    0.000000    7.910400\n",
       "50%     446.000000    0.000000    3.000000   24.000000    0.000000    0.000000   14.454200\n",
       "75%     668.500000    1.000000    3.000000   35.000000    1.000000    0.000000   31.000000\n",
       "max     891.000000    1.000000    3.000000   80.000000    8.000000    6.000000  512.329200"
      ]
     },
     "execution_count": 14,
     "metadata": {},
     "output_type": "execute_result"
    }
   ],
   "source": [
    "df.describe(include=np.number) "
   ]
  },
  {
   "cell_type": "code",
   "execution_count": 15,
   "id": "5beb676e-3197-42bf-92de-f5ac3123e6d5",
   "metadata": {},
   "outputs": [
    {
     "data": {
      "text/plain": [
       "<Axes: >"
      ]
     },
     "execution_count": 15,
     "metadata": {},
     "output_type": "execute_result"
    },
    {
     "data": {
      "image/png": "[encoded data removed]",
      "text/plain": [
       "<Figure size 640x480 with 1 Axes>"
      ]
     },
     "metadata": {},
     "output_type": "display_data"
    }
   ],
   "source": [
    "df.Fare.hist()"
   ]
  },
  {
   "cell_type": "code",
   "execution_count": 16,
   "id": "b26b6dee-2330-47cb-8cb7-01b09b630328",
   "metadata": {},
   "outputs": [],
   "source": [
    "## correct long-tail distribution by taking log\n",
    "df['Log-Fare']=np.log(df.Fare + 1.0)"
   ]
  },
  {
   "cell_type": "code",
   "execution_count": 17,
   "id": "9cf1d0f5-0763-40fe-9db7-6019b0405460",
   "metadata": {},
   "outputs": [
    {
     "data": {
      "text/plain": [
       "<Axes: >"
      ]
     },
     "execution_count": 17,
     "metadata": {},
     "output_type": "execute_result"
    },
    {
     "data": {
      "image/png": "[encoded data removed]",
      "text/plain": [
       "<Figure size 640x480 with 1 Axes>"
      ]
     },
     "metadata": {},
     "output_type": "display_data"
    }
   ],
   "source": [
    "df['Log-Fare'].hist() ## this one is more "
   ]
  },
  {
   "cell_type": "code",
   "execution_count": 18,
   "id": "0ff1db77-4b09-4339-bc9a-24d9b2335870",
   "metadata": {},
   "outputs": [
    {
     "data": {
      "text/html": [
       "<div>\n",
       "<style scoped>\n",
       "    .dataframe tbody tr th:only-of-type {\n",
       "        vertical-align: middle;\n",
       "    }\n",
       "\n",
       "    .dataframe tbody tr th {\n",
       "        vertical-align: top;\n",
       "    }\n",
       "\n",
       "    .dataframe thead th {\n",
       "        text-align: right;\n",
       "    }\n",
       "</style>\n",
       "<table border=\"1\" class=\"dataframe\">\n",
       "  <thead>\n",
       "    <tr style=\"text-align: right;\">\n",
       "      <th></th>\n",
       "      <th>Name</th>\n",
       "      <th>Sex</th>\n",
       "      <th>Ticket</th>\n",
       "      <th>Cabin</th>\n",
       "      <th>Embarked</th>\n",
       "    </tr>\n",
       "  </thead>\n",
       "  <tbody>\n",
       "    <tr>\n",
       "      <th>count</th>\n",
       "      <td>891</td>\n",
       "      <td>891</td>\n",
       "      <td>891</td>\n",
       "      <td>891</td>\n",
       "      <td>891</td>\n",
       "    </tr>\n",
       "    <tr>\n",
       "      <th>unique</th>\n",
       "      <td>891</td>\n",
       "      <td>2</td>\n",
       "      <td>681</td>\n",
       "      <td>147</td>\n",
       "      <td>3</td>\n",
       "    </tr>\n",
       "    <tr>\n",
       "      <th>top</th>\n",
       "      <td>Braund, Mr. Owen Harris</td>\n",
       "      <td>male</td>\n",
       "      <td>347082</td>\n",
       "      <td>B96 B98</td>\n",
       "      <td>S</td>\n",
       "    </tr>\n",
       "    <tr>\n",
       "      <th>freq</th>\n",
       "      <td>1</td>\n",
       "      <td>577</td>\n",
       "      <td>7</td>\n",
       "      <td>691</td>\n",
       "      <td>646</td>\n",
       "    </tr>\n",
       "  </tbody>\n",
       "</table>\n",
       "</div>"
      ],
      "text/plain": [
       "                           Name   Sex  Ticket    Cabin Embarked\n",
       "count                       891   891     891      891      891\n",
       "unique                      891     2     681      147        3\n",
       "top     Braund, Mr. Owen Harris  male  347082  B96 B98        S\n",
       "freq                          1   577       7      691      646"
      ]
     },
     "execution_count": 18,
     "metadata": {},
     "output_type": "execute_result"
    }
   ],
   "source": [
    "df.describe(include='object')"
   ]
  },
  {
   "cell_type": "code",
   "execution_count": 19,
   "id": "d7f188fd-a778-4e33-ac84-4d872436e911",
   "metadata": {},
   "outputs": [
    {
     "data": {
      "text/plain": [
       "array([3, 1, 2])"
      ]
     },
     "execution_count": 19,
     "metadata": {},
     "output_type": "execute_result"
    }
   ],
   "source": [
    "df.Pclass.unique() \n",
    "## this one also looks like 3 unique levels representing firstclass, 2ndclass, 3rd class => require encoding"
   ]
  },
  {
   "cell_type": "code",
   "execution_count": 20,
   "id": "f5523de9-9844-44ce-9019-7f1acfca7ad5",
   "metadata": {},
   "outputs": [],
   "source": [
    "## overall, we need to encode columns \"Sex\", \"Embarked\", and \"Pclass\". \n",
    "## Remaining catagorical ones can be ignored as they have too many unique values"
   ]
  },
  {
   "cell_type": "code",
   "execution_count": 21,
   "id": "c181752b-3e82-4630-8509-594dd6ba5759",
   "metadata": {},
   "outputs": [],
   "source": [
    "## dummy variables can be easily created using pandas to represent these using one-hot-encoding. One column for each unique value of the column\n",
    "df = pd.get_dummies(df,columns=[\"Sex\", \"Embarked\",\"Pclass\"])"
   ]
  },
  {
   "cell_type": "code",
   "execution_count": 22,
   "id": "ccc70aad-fdf2-4a40-bcce-cf567767e546",
   "metadata": {},
   "outputs": [
    {
     "data": {
      "text/plain": [
       "Index(['PassengerId', 'Survived', 'Name', 'Age', 'SibSp', 'Parch', 'Ticket', 'Fare', 'Cabin', 'Log-Fare', 'Sex_female', 'Sex_male',\n",
       "       'Embarked_C', 'Embarked_Q', 'Embarked_S', 'Pclass_1', 'Pclass_2', 'Pclass_3'],\n",
       "      dtype='object')"
      ]
     },
     "execution_count": 22,
     "metadata": {},
     "output_type": "execute_result"
    }
   ],
   "source": [
    "df.columns"
   ]
  },
  {
   "cell_type": "code",
   "execution_count": 23,
   "id": "3b251fb0-c484-471b-8b0d-9e9046ce4ed6",
   "metadata": {},
   "outputs": [
    {
     "data": {
      "text/html": [
       "<div>\n",
       "<style scoped>\n",
       "    .dataframe tbody tr th:only-of-type {\n",
       "        vertical-align: middle;\n",
       "    }\n",
       "\n",
       "    .dataframe tbody tr th {\n",
       "        vertical-align: top;\n",
       "    }\n",
       "\n",
       "    .dataframe thead th {\n",
       "        text-align: right;\n",
       "    }\n",
       "</style>\n",
       "<table border=\"1\" class=\"dataframe\">\n",
       "  <thead>\n",
       "    <tr style=\"text-align: right;\">\n",
       "      <th></th>\n",
       "      <th>PassengerId</th>\n",
       "      <th>Survived</th>\n",
       "      <th>Name</th>\n",
       "      <th>Age</th>\n",
       "      <th>SibSp</th>\n",
       "      <th>Parch</th>\n",
       "      <th>Ticket</th>\n",
       "      <th>Fare</th>\n",
       "      <th>Cabin</th>\n",
       "      <th>Log-Fare</th>\n",
       "      <th>Sex_female</th>\n",
       "      <th>Sex_male</th>\n",
       "      <th>Embarked_C</th>\n",
       "      <th>Embarked_Q</th>\n",
       "      <th>Embarked_S</th>\n",
       "      <th>Pclass_1</th>\n",
       "      <th>Pclass_2</th>\n",
       "      <th>Pclass_3</th>\n",
       "    </tr>\n",
       "  </thead>\n",
       "  <tbody>\n",
       "    <tr>\n",
       "      <th>0</th>\n",
       "      <td>1</td>\n",
       "      <td>0</td>\n",
       "      <td>Braund, Mr. Owen Harris</td>\n",
       "      <td>22.0</td>\n",
       "      <td>1</td>\n",
       "      <td>0</td>\n",
       "      <td>A/5 21171</td>\n",
       "      <td>7.2500</td>\n",
       "      <td>B96 B98</td>\n",
       "      <td>2.110213</td>\n",
       "      <td>False</td>\n",
       "      <td>True</td>\n",
       "      <td>False</td>\n",
       "      <td>False</td>\n",
       "      <td>True</td>\n",
       "      <td>False</td>\n",
       "      <td>False</td>\n",
       "      <td>True</td>\n",
       "    </tr>\n",
       "    <tr>\n",
       "      <th>1</th>\n",
       "      <td>2</td>\n",
       "      <td>1</td>\n",
       "      <td>Cumings, Mrs. John Bradley (Florence Briggs Th...</td>\n",
       "      <td>38.0</td>\n",
       "      <td>1</td>\n",
       "      <td>0</td>\n",
       "      <td>PC 17599</td>\n",
       "      <td>71.2833</td>\n",
       "      <td>C85</td>\n",
       "      <td>4.280593</td>\n",
       "      <td>True</td>\n",
       "      <td>False</td>\n",
       "      <td>True</td>\n",
       "      <td>False</td>\n",
       "      <td>False</td>\n",
       "      <td>True</td>\n",
       "      <td>False</td>\n",
       "      <td>False</td>\n",
       "    </tr>\n",
       "    <tr>\n",
       "      <th>2</th>\n",
       "      <td>3</td>\n",
       "      <td>1</td>\n",
       "      <td>Heikkinen, Miss. Laina</td>\n",
       "      <td>26.0</td>\n",
       "      <td>0</td>\n",
       "      <td>0</td>\n",
       "      <td>STON/O2. 3101282</td>\n",
       "      <td>7.9250</td>\n",
       "      <td>B96 B98</td>\n",
       "      <td>2.188856</td>\n",
       "      <td>True</td>\n",
       "      <td>False</td>\n",
       "      <td>False</td>\n",
       "      <td>False</td>\n",
       "      <td>True</td>\n",
       "      <td>False</td>\n",
       "      <td>False</td>\n",
       "      <td>True</td>\n",
       "    </tr>\n",
       "    <tr>\n",
       "      <th>3</th>\n",
       "      <td>4</td>\n",
       "      <td>1</td>\n",
       "      <td>Futrelle, Mrs. Jacques Heath (Lily May Peel)</td>\n",
       "      <td>35.0</td>\n",
       "      <td>1</td>\n",
       "      <td>0</td>\n",
       "      <td>113803</td>\n",
       "      <td>53.1000</td>\n",
       "      <td>C123</td>\n",
       "      <td>3.990834</td>\n",
       "      <td>True</td>\n",
       "      <td>False</td>\n",
       "      <td>False</td>\n",
       "      <td>False</td>\n",
       "      <td>True</td>\n",
       "      <td>True</td>\n",
       "      <td>False</td>\n",
       "      <td>False</td>\n",
       "    </tr>\n",
       "    <tr>\n",
       "      <th>4</th>\n",
       "      <td>5</td>\n",
       "      <td>0</td>\n",
       "      <td>Allen, Mr. William Henry</td>\n",
       "      <td>35.0</td>\n",
       "      <td>0</td>\n",
       "      <td>0</td>\n",
       "      <td>373450</td>\n",
       "      <td>8.0500</td>\n",
       "      <td>B96 B98</td>\n",
       "      <td>2.202765</td>\n",
       "      <td>False</td>\n",
       "      <td>True</td>\n",
       "      <td>False</td>\n",
       "      <td>False</td>\n",
       "      <td>True</td>\n",
       "      <td>False</td>\n",
       "      <td>False</td>\n",
       "      <td>True</td>\n",
       "    </tr>\n",
       "  </tbody>\n",
       "</table>\n",
       "</div>"
      ],
      "text/plain": [
       "   PassengerId  Survived                                               Name   Age  SibSp  Parch            Ticket     Fare    Cabin  \\\n",
       "0            1         0                            Braund, Mr. Owen Harris  22.0      1      0         A/5 21171   7.2500  B96 B98   \n",
       "1            2         1  Cumings, Mrs. John Bradley (Florence Briggs Th...  38.0      1      0          PC 17599  71.2833      C85   \n",
       "2            3         1                             Heikkinen, Miss. Laina  26.0      0      0  STON/O2. 3101282   7.9250  B96 B98   \n",
       "3            4         1       Futrelle, Mrs. Jacques Heath (Lily May Peel)  35.0      1      0            113803  53.1000     C123   \n",
       "4            5         0                           Allen, Mr. William Henry  35.0      0      0            373450   8.0500  B96 B98   \n",
       "\n",
       "   Log-Fare  Sex_female  Sex_male  Embarked_C  Embarked_Q  Embarked_S  Pclass_1  Pclass_2  Pclass_3  \n",
       "0  2.110213       False      True       False       False        True     False     False      True  \n",
       "1  4.280593        True     False        True       False       False      True     False     False  \n",
       "2  2.188856        True     False       False       False        True     False     False      True  \n",
       "3  3.990834        True     False       False       False        True      True     False     False  \n",
       "4  2.202765       False      True       False       False        True     False     False      True  "
      ]
     },
     "execution_count": 23,
     "metadata": {},
     "output_type": "execute_result"
    }
   ],
   "source": [
    "df.head()"
   ]
  },
  {
   "cell_type": "code",
   "execution_count": 24,
   "id": "6b57034e-6869-4a7d-ab60-911f3ee40e7e",
   "metadata": {},
   "outputs": [],
   "source": [
    "new_cols = ['Sex_female', 'Sex_male',\n",
    "       'Embarked_C', 'Embarked_Q', 'Embarked_S', 'Pclass_1', 'Pclass_2', 'Pclass_3']"
   ]
  },
  {
   "cell_type": "code",
   "execution_count": 25,
   "id": "3a099e79-cd31-43f0-bf06-7575eed53fca",
   "metadata": {},
   "outputs": [
    {
     "data": {
      "text/html": [
       "<div>\n",
       "<style scoped>\n",
       "    .dataframe tbody tr th:only-of-type {\n",
       "        vertical-align: middle;\n",
       "    }\n",
       "\n",
       "    .dataframe tbody tr th {\n",
       "        vertical-align: top;\n",
       "    }\n",
       "\n",
       "    .dataframe thead th {\n",
       "        text-align: right;\n",
       "    }\n",
       "</style>\n",
       "<table border=\"1\" class=\"dataframe\">\n",
       "  <thead>\n",
       "    <tr style=\"text-align: right;\">\n",
       "      <th></th>\n",
       "      <th>Sex_female</th>\n",
       "      <th>Sex_male</th>\n",
       "      <th>Embarked_C</th>\n",
       "      <th>Embarked_Q</th>\n",
       "      <th>Embarked_S</th>\n",
       "      <th>Pclass_1</th>\n",
       "      <th>Pclass_2</th>\n",
       "      <th>Pclass_3</th>\n",
       "    </tr>\n",
       "  </thead>\n",
       "  <tbody>\n",
       "    <tr>\n",
       "      <th>0</th>\n",
       "      <td>False</td>\n",
       "      <td>True</td>\n",
       "      <td>False</td>\n",
       "      <td>False</td>\n",
       "      <td>True</td>\n",
       "      <td>False</td>\n",
       "      <td>False</td>\n",
       "      <td>True</td>\n",
       "    </tr>\n",
       "    <tr>\n",
       "      <th>1</th>\n",
       "      <td>True</td>\n",
       "      <td>False</td>\n",
       "      <td>True</td>\n",
       "      <td>False</td>\n",
       "      <td>False</td>\n",
       "      <td>True</td>\n",
       "      <td>False</td>\n",
       "      <td>False</td>\n",
       "    </tr>\n",
       "    <tr>\n",
       "      <th>2</th>\n",
       "      <td>True</td>\n",
       "      <td>False</td>\n",
       "      <td>False</td>\n",
       "      <td>False</td>\n",
       "      <td>True</td>\n",
       "      <td>False</td>\n",
       "      <td>False</td>\n",
       "      <td>True</td>\n",
       "    </tr>\n",
       "    <tr>\n",
       "      <th>3</th>\n",
       "      <td>True</td>\n",
       "      <td>False</td>\n",
       "      <td>False</td>\n",
       "      <td>False</td>\n",
       "      <td>True</td>\n",
       "      <td>True</td>\n",
       "      <td>False</td>\n",
       "      <td>False</td>\n",
       "    </tr>\n",
       "    <tr>\n",
       "      <th>4</th>\n",
       "      <td>False</td>\n",
       "      <td>True</td>\n",
       "      <td>False</td>\n",
       "      <td>False</td>\n",
       "      <td>True</td>\n",
       "      <td>False</td>\n",
       "      <td>False</td>\n",
       "      <td>True</td>\n",
       "    </tr>\n",
       "  </tbody>\n",
       "</table>\n",
       "</div>"
      ],
      "text/plain": [
       "   Sex_female  Sex_male  Embarked_C  Embarked_Q  Embarked_S  Pclass_1  Pclass_2  Pclass_3\n",
       "0       False      True       False       False        True     False     False      True\n",
       "1        True     False        True       False       False      True     False     False\n",
       "2        True     False       False       False        True     False     False      True\n",
       "3        True     False       False       False        True      True     False     False\n",
       "4       False      True       False       False        True     False     False      True"
      ]
     },
     "execution_count": 25,
     "metadata": {},
     "output_type": "execute_result"
    }
   ],
   "source": [
    "df[new_cols].head()"
   ]
  },
  {
   "cell_type": "code",
   "execution_count": 26,
   "id": "b8d07253-45e6-4aa5-a4d0-010da327cbd1",
   "metadata": {},
   "outputs": [],
   "source": [
    "## create dependent and independent variable\n",
    "from torch import tensor"
   ]
  },
  {
   "cell_type": "code",
   "execution_count": 27,
   "id": "c421f544-085e-468f-b77a-abf8fb9a9508",
   "metadata": {},
   "outputs": [],
   "source": [
    "t_dep = tensor(df.Survived.astype(float))"
   ]
  },
  {
   "cell_type": "code",
   "execution_count": 28,
   "id": "c701dd7e-ae7e-4f40-aa78-339da62e6c66",
   "metadata": {},
   "outputs": [],
   "source": [
    "indep_columns = ['Age', 'SibSp', 'Parch', 'Log-Fare'] + new_cols"
   ]
  },
  {
   "cell_type": "code",
   "execution_count": 29,
   "id": "eee398ba-d619-45e8-8db8-30086eb47846",
   "metadata": {},
   "outputs": [
    {
     "data": {
      "text/html": [
       "<div>\n",
       "<style scoped>\n",
       "    .dataframe tbody tr th:only-of-type {\n",
       "        vertical-align: middle;\n",
       "    }\n",
       "\n",
       "    .dataframe tbody tr th {\n",
       "        vertical-align: top;\n",
       "    }\n",
       "\n",
       "    .dataframe thead th {\n",
       "        text-align: right;\n",
       "    }\n",
       "</style>\n",
       "<table border=\"1\" class=\"dataframe\">\n",
       "  <thead>\n",
       "    <tr style=\"text-align: right;\">\n",
       "      <th></th>\n",
       "      <th>Age</th>\n",
       "      <th>SibSp</th>\n",
       "      <th>Parch</th>\n",
       "      <th>Log-Fare</th>\n",
       "      <th>Sex_female</th>\n",
       "      <th>Sex_male</th>\n",
       "      <th>Embarked_C</th>\n",
       "      <th>Embarked_Q</th>\n",
       "      <th>Embarked_S</th>\n",
       "      <th>Pclass_1</th>\n",
       "      <th>Pclass_2</th>\n",
       "      <th>Pclass_3</th>\n",
       "    </tr>\n",
       "  </thead>\n",
       "  <tbody>\n",
       "    <tr>\n",
       "      <th>0</th>\n",
       "      <td>22.0</td>\n",
       "      <td>1</td>\n",
       "      <td>0</td>\n",
       "      <td>2.110213</td>\n",
       "      <td>False</td>\n",
       "      <td>True</td>\n",
       "      <td>False</td>\n",
       "      <td>False</td>\n",
       "      <td>True</td>\n",
       "      <td>False</td>\n",
       "      <td>False</td>\n",
       "      <td>True</td>\n",
       "    </tr>\n",
       "    <tr>\n",
       "      <th>1</th>\n",
       "      <td>38.0</td>\n",
       "      <td>1</td>\n",
       "      <td>0</td>\n",
       "      <td>4.280593</td>\n",
       "      <td>True</td>\n",
       "      <td>False</td>\n",
       "      <td>True</td>\n",
       "      <td>False</td>\n",
       "      <td>False</td>\n",
       "      <td>True</td>\n",
       "      <td>False</td>\n",
       "      <td>False</td>\n",
       "    </tr>\n",
       "    <tr>\n",
       "      <th>2</th>\n",
       "      <td>26.0</td>\n",
       "      <td>0</td>\n",
       "      <td>0</td>\n",
       "      <td>2.188856</td>\n",
       "      <td>True</td>\n",
       "      <td>False</td>\n",
       "      <td>False</td>\n",
       "      <td>False</td>\n",
       "      <td>True</td>\n",
       "      <td>False</td>\n",
       "      <td>False</td>\n",
       "      <td>True</td>\n",
       "    </tr>\n",
       "    <tr>\n",
       "      <th>3</th>\n",
       "      <td>35.0</td>\n",
       "      <td>1</td>\n",
       "      <td>0</td>\n",
       "      <td>3.990834</td>\n",
       "      <td>True</td>\n",
       "      <td>False</td>\n",
       "      <td>False</td>\n",
       "      <td>False</td>\n",
       "      <td>True</td>\n",
       "      <td>True</td>\n",
       "      <td>False</td>\n",
       "      <td>False</td>\n",
       "    </tr>\n",
       "    <tr>\n",
       "      <th>4</th>\n",
       "      <td>35.0</td>\n",
       "      <td>0</td>\n",
       "      <td>0</td>\n",
       "      <td>2.202765</td>\n",
       "      <td>False</td>\n",
       "      <td>True</td>\n",
       "      <td>False</td>\n",
       "      <td>False</td>\n",
       "      <td>True</td>\n",
       "      <td>False</td>\n",
       "      <td>False</td>\n",
       "      <td>True</td>\n",
       "    </tr>\n",
       "  </tbody>\n",
       "</table>\n",
       "</div>"
      ],
      "text/plain": [
       "    Age  SibSp  Parch  Log-Fare  Sex_female  Sex_male  Embarked_C  Embarked_Q  Embarked_S  Pclass_1  Pclass_2  Pclass_3\n",
       "0  22.0      1      0  2.110213       False      True       False       False        True     False     False      True\n",
       "1  38.0      1      0  4.280593        True     False        True       False       False      True     False     False\n",
       "2  26.0      0      0  2.188856        True     False       False       False        True     False     False      True\n",
       "3  35.0      1      0  3.990834        True     False       False       False        True      True     False     False\n",
       "4  35.0      0      0  2.202765       False      True       False       False        True     False     False      True"
      ]
     },
     "execution_count": 29,
     "metadata": {},
     "output_type": "execute_result"
    }
   ],
   "source": [
    "df[indep_columns].head()"
   ]
  },
  {
   "cell_type": "code",
   "execution_count": 30,
   "id": "28fe4bcf-5414-441e-8db7-77bcac3eb806",
   "metadata": {},
   "outputs": [
    {
     "data": {
      "text/html": [
       "<div>\n",
       "<style scoped>\n",
       "    .dataframe tbody tr th:only-of-type {\n",
       "        vertical-align: middle;\n",
       "    }\n",
       "\n",
       "    .dataframe tbody tr th {\n",
       "        vertical-align: top;\n",
       "    }\n",
       "\n",
       "    .dataframe thead th {\n",
       "        text-align: right;\n",
       "    }\n",
       "</style>\n",
       "<table border=\"1\" class=\"dataframe\">\n",
       "  <thead>\n",
       "    <tr style=\"text-align: right;\">\n",
       "      <th></th>\n",
       "      <th>Age</th>\n",
       "      <th>SibSp</th>\n",
       "      <th>Parch</th>\n",
       "      <th>Log-Fare</th>\n",
       "      <th>Sex_female</th>\n",
       "      <th>Sex_male</th>\n",
       "      <th>Embarked_C</th>\n",
       "      <th>Embarked_Q</th>\n",
       "      <th>Embarked_S</th>\n",
       "      <th>Pclass_1</th>\n",
       "      <th>Pclass_2</th>\n",
       "      <th>Pclass_3</th>\n",
       "    </tr>\n",
       "  </thead>\n",
       "  <tbody>\n",
       "    <tr>\n",
       "      <th>count</th>\n",
       "      <td>891.000000</td>\n",
       "      <td>891.000000</td>\n",
       "      <td>891.000000</td>\n",
       "      <td>891.000000</td>\n",
       "      <td>891.000000</td>\n",
       "      <td>891.000000</td>\n",
       "      <td>891.000000</td>\n",
       "      <td>891.000000</td>\n",
       "      <td>891.000000</td>\n",
       "      <td>891.000000</td>\n",
       "      <td>891.000000</td>\n",
       "      <td>891.000000</td>\n",
       "    </tr>\n",
       "    <tr>\n",
       "      <th>mean</th>\n",
       "      <td>28.566970</td>\n",
       "      <td>0.523008</td>\n",
       "      <td>0.381594</td>\n",
       "      <td>2.962246</td>\n",
       "      <td>0.352413</td>\n",
       "      <td>0.647587</td>\n",
       "      <td>0.188552</td>\n",
       "      <td>0.086420</td>\n",
       "      <td>0.725028</td>\n",
       "      <td>0.242424</td>\n",
       "      <td>0.206510</td>\n",
       "      <td>0.551066</td>\n",
       "    </tr>\n",
       "    <tr>\n",
       "      <th>std</th>\n",
       "      <td>13.199572</td>\n",
       "      <td>1.102743</td>\n",
       "      <td>0.806057</td>\n",
       "      <td>0.969048</td>\n",
       "      <td>0.477990</td>\n",
       "      <td>0.477990</td>\n",
       "      <td>0.391372</td>\n",
       "      <td>0.281141</td>\n",
       "      <td>0.446751</td>\n",
       "      <td>0.428790</td>\n",
       "      <td>0.405028</td>\n",
       "      <td>0.497665</td>\n",
       "    </tr>\n",
       "    <tr>\n",
       "      <th>min</th>\n",
       "      <td>0.420000</td>\n",
       "      <td>0.000000</td>\n",
       "      <td>0.000000</td>\n",
       "      <td>0.000000</td>\n",
       "      <td>0.000000</td>\n",
       "      <td>0.000000</td>\n",
       "      <td>0.000000</td>\n",
       "      <td>0.000000</td>\n",
       "      <td>0.000000</td>\n",
       "      <td>0.000000</td>\n",
       "      <td>0.000000</td>\n",
       "      <td>0.000000</td>\n",
       "    </tr>\n",
       "    <tr>\n",
       "      <th>25%</th>\n",
       "      <td>22.000000</td>\n",
       "      <td>0.000000</td>\n",
       "      <td>0.000000</td>\n",
       "      <td>2.187218</td>\n",
       "      <td>0.000000</td>\n",
       "      <td>0.000000</td>\n",
       "      <td>0.000000</td>\n",
       "      <td>0.000000</td>\n",
       "      <td>0.000000</td>\n",
       "      <td>0.000000</td>\n",
       "      <td>0.000000</td>\n",
       "      <td>0.000000</td>\n",
       "    </tr>\n",
       "    <tr>\n",
       "      <th>50%</th>\n",
       "      <td>24.000000</td>\n",
       "      <td>0.000000</td>\n",
       "      <td>0.000000</td>\n",
       "      <td>2.737881</td>\n",
       "      <td>0.000000</td>\n",
       "      <td>1.000000</td>\n",
       "      <td>0.000000</td>\n",
       "      <td>0.000000</td>\n",
       "      <td>1.000000</td>\n",
       "      <td>0.000000</td>\n",
       "      <td>0.000000</td>\n",
       "      <td>1.000000</td>\n",
       "    </tr>\n",
       "    <tr>\n",
       "      <th>75%</th>\n",
       "      <td>35.000000</td>\n",
       "      <td>1.000000</td>\n",
       "      <td>0.000000</td>\n",
       "      <td>3.465736</td>\n",
       "      <td>1.000000</td>\n",
       "      <td>1.000000</td>\n",
       "      <td>0.000000</td>\n",
       "      <td>0.000000</td>\n",
       "      <td>1.000000</td>\n",
       "      <td>0.000000</td>\n",
       "      <td>0.000000</td>\n",
       "      <td>1.000000</td>\n",
       "    </tr>\n",
       "    <tr>\n",
       "      <th>max</th>\n",
       "      <td>80.000000</td>\n",
       "      <td>8.000000</td>\n",
       "      <td>6.000000</td>\n",
       "      <td>6.240917</td>\n",
       "      <td>1.000000</td>\n",
       "      <td>1.000000</td>\n",
       "      <td>1.000000</td>\n",
       "      <td>1.000000</td>\n",
       "      <td>1.000000</td>\n",
       "      <td>1.000000</td>\n",
       "      <td>1.000000</td>\n",
       "      <td>1.000000</td>\n",
       "    </tr>\n",
       "  </tbody>\n",
       "</table>\n",
       "</div>"
      ],
      "text/plain": [
       "              Age       SibSp       Parch    Log-Fare  Sex_female    Sex_male  Embarked_C  Embarked_Q  Embarked_S    Pclass_1    Pclass_2  \\\n",
       "count  891.000000  891.000000  891.000000  891.000000  891.000000  891.000000  891.000000  891.000000  891.000000  891.000000  891.000000   \n",
       "mean    28.566970    0.523008    0.381594    2.962246    0.352413    0.647587    0.188552    0.086420    0.725028    0.242424    0.206510   \n",
       "std     13.199572    1.102743    0.806057    0.969048    0.477990    0.477990    0.391372    0.281141    0.446751    0.428790    0.405028   \n",
       "min      0.420000    0.000000    0.000000    0.000000    0.000000    0.000000    0.000000    0.000000    0.000000    0.000000    0.000000   \n",
       "25%     22.000000    0.000000    0.000000    2.187218    0.000000    0.000000    0.000000    0.000000    0.000000    0.000000    0.000000   \n",
       "50%     24.000000    0.000000    0.000000    2.737881    0.000000    1.000000    0.000000    0.000000    1.000000    0.000000    0.000000   \n",
       "75%     35.000000    1.000000    0.000000    3.465736    1.000000    1.000000    0.000000    0.000000    1.000000    0.000000    0.000000   \n",
       "max     80.000000    8.000000    6.000000    6.240917    1.000000    1.000000    1.000000    1.000000    1.000000    1.000000    1.000000   \n",
       "\n",
       "         Pclass_3  \n",
       "count  891.000000  \n",
       "mean     0.551066  \n",
       "std      0.497665  \n",
       "min      0.000000  \n",
       "25%      0.000000  \n",
       "50%      1.000000  \n",
       "75%      1.000000  \n",
       "max      1.000000  "
      ]
     },
     "execution_count": 30,
     "metadata": {},
     "output_type": "execute_result"
    }
   ],
   "source": [
    "df[indep_columns].astype(float).describe()"
   ]
  },
  {
   "cell_type": "code",
   "execution_count": 31,
   "id": "9036bffb-f8bd-45ac-902f-23dccae29da3",
   "metadata": {},
   "outputs": [],
   "source": [
    "t_indep = tensor(df[indep_columns].astype(float).values,dtype=torch.float)"
   ]
  },
  {
   "cell_type": "code",
   "execution_count": 32,
   "id": "92b75915-d865-4154-b59e-d0ed0d8c1932",
   "metadata": {},
   "outputs": [
    {
     "data": {
      "text/plain": [
       "tensor([[22.0000,  1.0000,  0.0000,  2.1102,  0.0000,  ...,  0.0000,  1.0000,  0.0000,  0.0000,  1.0000],\n",
       "        [38.0000,  1.0000,  0.0000,  4.2806,  1.0000,  ...,  0.0000,  0.0000,  1.0000,  0.0000,  0.0000],\n",
       "        [26.0000,  0.0000,  0.0000,  2.1889,  1.0000,  ...,  0.0000,  1.0000,  0.0000,  0.0000,  1.0000],\n",
       "        [35.0000,  1.0000,  0.0000,  3.9908,  1.0000,  ...,  0.0000,  1.0000,  1.0000,  0.0000,  0.0000],\n",
       "        [35.0000,  0.0000,  0.0000,  2.2028,  0.0000,  ...,  0.0000,  1.0000,  0.0000,  0.0000,  1.0000],\n",
       "        ...,\n",
       "        [27.0000,  0.0000,  0.0000,  2.6391,  0.0000,  ...,  0.0000,  1.0000,  0.0000,  1.0000,  0.0000],\n",
       "        [19.0000,  0.0000,  0.0000,  3.4340,  1.0000,  ...,  0.0000,  1.0000,  1.0000,  0.0000,  0.0000],\n",
       "        [24.0000,  1.0000,  2.0000,  3.1966,  1.0000,  ...,  0.0000,  1.0000,  0.0000,  0.0000,  1.0000],\n",
       "        [26.0000,  0.0000,  0.0000,  3.4340,  0.0000,  ...,  0.0000,  0.0000,  1.0000,  0.0000,  0.0000],\n",
       "        [32.0000,  0.0000,  0.0000,  2.1691,  0.0000,  ...,  1.0000,  0.0000,  0.0000,  0.0000,  1.0000]])"
      ]
     },
     "execution_count": 32,
     "metadata": {},
     "output_type": "execute_result"
    }
   ],
   "source": [
    "t_indep"
   ]
  },
  {
   "cell_type": "code",
   "execution_count": 33,
   "id": "7b24e541-4a2c-40e9-ba05-7ac208dad93d",
   "metadata": {},
   "outputs": [
    {
     "data": {
      "text/plain": [
       "(torch.Size([891, 12]), torch.Size([891]))"
      ]
     },
     "execution_count": 33,
     "metadata": {},
     "output_type": "execute_result"
    }
   ],
   "source": [
    "t_indep.shape, t_dep.shape"
   ]
  },
  {
   "cell_type": "code",
   "execution_count": 34,
   "id": "ee29f74b-5fd9-4d6a-ac5a-974d35cde8b1",
   "metadata": {},
   "outputs": [],
   "source": [
    "## data is ready=> now fit a basic model ##\n",
    "# independent variables represented as X, dependent variable represented as y\n",
    "# model is F(X) = y; learn the function F from the training examples\n",
    "torch.manual_seed(442)\n",
    "n_coeff = t_indep.shape[1] ## no. of parameters needed\n",
    "coeff = torch.rand(n_coeff) - 0.5 ## random initialization centered around zero"
   ]
  },
  {
   "cell_type": "code",
   "execution_count": 35,
   "id": "b34c8493-dab5-4999-b221-68d8e7e2179b",
   "metadata": {},
   "outputs": [],
   "source": [
    "preds = t_indep*coeff"
   ]
  },
  {
   "cell_type": "code",
   "execution_count": 36,
   "id": "881f0dd7-62a8-4138-85f7-84942f79b7ab",
   "metadata": {},
   "outputs": [
    {
     "data": {
      "text/plain": [
       "tensor([[-10.1838,   0.1386,   0.0000,  -0.4772,  -0.0000,  ...,   0.0000,   0.2799,  -0.0000,   0.0000,   0.3625],\n",
       "        [-17.5902,   0.1386,   0.0000,  -0.9681,  -0.2632,  ...,   0.0000,   0.0000,  -0.4392,   0.0000,   0.0000],\n",
       "        [-12.0354,   0.0000,   0.0000,  -0.4950,  -0.2632,  ...,   0.0000,   0.2799,  -0.0000,   0.0000,   0.3625],\n",
       "        [-16.2015,   0.1386,   0.0000,  -0.9025,  -0.2632,  ...,   0.0000,   0.2799,  -0.4392,   0.0000,   0.0000],\n",
       "        [-16.2015,   0.0000,   0.0000,  -0.4982,  -0.0000,  ...,   0.0000,   0.2799,  -0.0000,   0.0000,   0.3625],\n",
       "        ...,\n",
       "        [-12.4983,   0.0000,   0.0000,  -0.5968,  -0.0000,  ...,   0.0000,   0.2799,  -0.0000,   0.2103,   0.0000],\n",
       "        [ -8.7951,   0.0000,   0.0000,  -0.7766,  -0.2632,  ...,   0.0000,   0.2799,  -0.4392,   0.0000,   0.0000],\n",
       "        [-11.1096,   0.1386,   0.4818,  -0.7229,  -0.2632,  ...,   0.0000,   0.2799,  -0.0000,   0.0000,   0.3625],\n",
       "        [-12.0354,   0.0000,   0.0000,  -0.7766,  -0.0000,  ...,   0.0000,   0.0000,  -0.4392,   0.0000,   0.0000],\n",
       "        [-14.8128,   0.0000,   0.0000,  -0.4905,  -0.0000,  ...,   0.3136,   0.0000,  -0.0000,   0.0000,   0.3625]])"
      ]
     },
     "execution_count": 36,
     "metadata": {},
     "output_type": "execute_result"
    }
   ],
   "source": [
    "preds"
   ]
  },
  {
   "cell_type": "code",
   "execution_count": 37,
   "id": "6fafa504-37bd-4ea3-8765-56dda2679404",
   "metadata": {},
   "outputs": [],
   "source": [
    "## age column is in a different range so we need normalization\n",
    "denom_vals, indices = t_indep.max(dim=0)"
   ]
  },
  {
   "cell_type": "code",
   "execution_count": 38,
   "id": "f44c30af-bb7f-4b00-ac0c-d7e4b9286dc1",
   "metadata": {},
   "outputs": [
    {
     "data": {
      "text/plain": [
       "tensor([80.0000,  8.0000,  6.0000,  6.2409,  1.0000,  1.0000,  1.0000,  1.0000,  1.0000,  1.0000,  1.0000,  1.0000])"
      ]
     },
     "execution_count": 38,
     "metadata": {},
     "output_type": "execute_result"
    }
   ],
   "source": [
    "denom_vals"
   ]
  },
  {
   "cell_type": "code",
   "execution_count": 39,
   "id": "971b6711-a0dd-44f7-a384-5b5d49c50d32",
   "metadata": {},
   "outputs": [],
   "source": [
    "t_indep = t_indep/denom_vals"
   ]
  },
  {
   "cell_type": "code",
   "execution_count": 40,
   "id": "076dddb7-96f7-4588-b4db-1ca9a707adc3",
   "metadata": {},
   "outputs": [
    {
     "data": {
      "text/plain": [
       "tensor([[0.2750, 0.1250, 0.0000, 0.3381, 0.0000,  ..., 0.0000, 1.0000, 0.0000, 0.0000, 1.0000],\n",
       "        [0.4750, 0.1250, 0.0000, 0.6859, 1.0000,  ..., 0.0000, 0.0000, 1.0000, 0.0000, 0.0000],\n",
       "        [0.3250, 0.0000, 0.0000, 0.3507, 1.0000,  ..., 0.0000, 1.0000, 0.0000, 0.0000, 1.0000],\n",
       "        [0.4375, 0.1250, 0.0000, 0.6395, 1.0000,  ..., 0.0000, 1.0000, 1.0000, 0.0000, 0.0000],\n",
       "        [0.4375, 0.0000, 0.0000, 0.3530, 0.0000,  ..., 0.0000, 1.0000, 0.0000, 0.0000, 1.0000],\n",
       "        ...,\n",
       "        [0.3375, 0.0000, 0.0000, 0.4229, 0.0000,  ..., 0.0000, 1.0000, 0.0000, 1.0000, 0.0000],\n",
       "        [0.2375, 0.0000, 0.0000, 0.5502, 1.0000,  ..., 0.0000, 1.0000, 1.0000, 0.0000, 0.0000],\n",
       "        [0.3000, 0.1250, 0.3333, 0.5122, 1.0000,  ..., 0.0000, 1.0000, 0.0000, 0.0000, 1.0000],\n",
       "        [0.3250, 0.0000, 0.0000, 0.5502, 0.0000,  ..., 0.0000, 0.0000, 1.0000, 0.0000, 0.0000],\n",
       "        [0.4000, 0.0000, 0.0000, 0.3476, 0.0000,  ..., 1.0000, 0.0000, 0.0000, 0.0000, 1.0000]])"
      ]
     },
     "execution_count": 40,
     "metadata": {},
     "output_type": "execute_result"
    }
   ],
   "source": [
    "t_indep ##values are now in range"
   ]
  },
  {
   "cell_type": "code",
   "execution_count": 41,
   "id": "a8431a6f-3f21-4ba3-957c-a9d648cf1206",
   "metadata": {},
   "outputs": [],
   "source": [
    "preds = t_indep*coeff"
   ]
  },
  {
   "cell_type": "code",
   "execution_count": 42,
   "id": "7f1dfb0f-5fe4-4485-869c-29355748a714",
   "metadata": {},
   "outputs": [
    {
     "data": {
      "text/plain": [
       "tensor([[-0.1273,  0.0173,  0.0000, -0.0765, -0.0000,  ...,  0.0000,  0.2799, -0.0000,  0.0000,  0.3625],\n",
       "        [-0.2199,  0.0173,  0.0000, -0.1551, -0.2632,  ...,  0.0000,  0.0000, -0.4392,  0.0000,  0.0000],\n",
       "        [-0.1504,  0.0000,  0.0000, -0.0793, -0.2632,  ...,  0.0000,  0.2799, -0.0000,  0.0000,  0.3625],\n",
       "        [-0.2025,  0.0173,  0.0000, -0.1446, -0.2632,  ...,  0.0000,  0.2799, -0.4392,  0.0000,  0.0000],\n",
       "        [-0.2025,  0.0000,  0.0000, -0.0798, -0.0000,  ...,  0.0000,  0.2799, -0.0000,  0.0000,  0.3625],\n",
       "        ...,\n",
       "        [-0.1562,  0.0000,  0.0000, -0.0956, -0.0000,  ...,  0.0000,  0.2799, -0.0000,  0.2103,  0.0000],\n",
       "        [-0.1099,  0.0000,  0.0000, -0.1244, -0.2632,  ...,  0.0000,  0.2799, -0.4392,  0.0000,  0.0000],\n",
       "        [-0.1389,  0.0173,  0.0803, -0.1158, -0.2632,  ...,  0.0000,  0.2799, -0.0000,  0.0000,  0.3625],\n",
       "        [-0.1504,  0.0000,  0.0000, -0.1244, -0.0000,  ...,  0.0000,  0.0000, -0.4392,  0.0000,  0.0000],\n",
       "        [-0.1852,  0.0000,  0.0000, -0.0786, -0.0000,  ...,  0.3136,  0.0000, -0.0000,  0.0000,  0.3625]])"
      ]
     },
     "execution_count": 42,
     "metadata": {},
     "output_type": "execute_result"
    }
   ],
   "source": [
    "preds"
   ]
  },
  {
   "cell_type": "code",
   "execution_count": 43,
   "id": "2f1bac7a-3f61-4359-bdd9-3c51ae885ca2",
   "metadata": {},
   "outputs": [],
   "source": [
    "## reduce predictions to a single number\n",
    "preds = (t_indep*coeff).sum(axis=1)"
   ]
  },
  {
   "cell_type": "code",
   "execution_count": 44,
   "id": "2d281919-9056-4968-89a0-4766de437ab8",
   "metadata": {},
   "outputs": [
    {
     "data": {
      "text/plain": [
       "torch.Size([891])"
      ]
     },
     "execution_count": 44,
     "metadata": {},
     "output_type": "execute_result"
    }
   ],
   "source": [
    "preds.shape"
   ]
  },
  {
   "cell_type": "code",
   "execution_count": 45,
   "id": "db53a682-1e9f-4cad-bd67-31d8174e3f50",
   "metadata": {},
   "outputs": [
    {
     "data": {
      "text/plain": [
       "tensor([ 0.1412, -0.5725,  0.1494, -0.7523,  0.0453,  0.1411, -0.9302,  0.2961,  0.2128,  0.2464])"
      ]
     },
     "execution_count": 45,
     "metadata": {},
     "output_type": "execute_result"
    }
   ],
   "source": [
    "preds[:10]"
   ]
  },
  {
   "cell_type": "markdown",
   "id": "1cac5a4f-f9aa-41b6-8e45-9301bc482b95",
   "metadata": {},
   "source": [
    "to improve these predictions based on intial random guesses of model parameters, we need to improve these params\n",
    "We use gradient descend to do this. But,a loss funtion is needed for gradient calculation. MAE is a good one to start with"
   ]
  },
  {
   "cell_type": "code",
   "execution_count": 46,
   "id": "929f2f6a-7100-44b3-8d67-58ec895a23ed",
   "metadata": {},
   "outputs": [],
   "source": [
    "loss = torch.abs(preds-t_dep).mean()"
   ]
  },
  {
   "cell_type": "code",
   "execution_count": 47,
   "id": "4a2515fa-0904-4be8-9a05-8e5bb0387fc9",
   "metadata": {},
   "outputs": [
    {
     "data": {
      "text/plain": [
       "tensor(0.6020, dtype=torch.float64)"
      ]
     },
     "execution_count": 47,
     "metadata": {},
     "output_type": "execute_result"
    }
   ],
   "source": [
    "loss"
   ]
  },
  {
   "cell_type": "code",
   "execution_count": 48,
   "id": "68665ded-684b-415d-b648-3478ad656dee",
   "metadata": {},
   "outputs": [],
   "source": [
    "## create functions to make predictions and calculate loss\n",
    "def calc_preds(coeffs,indeps):\n",
    "    return (indeps*coeffs).sum(axis=1)\n",
    "    \n",
    "def calc_loss(coeffs,indeps,deps):\n",
    "    preds = calc_preds(coeffs,indeps)\n",
    "    return torch.abs(preds-deps).mean()"
   ]
  },
  {
   "cell_type": "code",
   "execution_count": 49,
   "id": "944b7426-e24f-45d7-a89d-f1f1b897e79a",
   "metadata": {},
   "outputs": [
    {
     "data": {
      "text/plain": [
       "tensor(0.6020, dtype=torch.float64)"
      ]
     },
     "execution_count": 49,
     "metadata": {},
     "output_type": "execute_result"
    }
   ],
   "source": [
    "calc_loss(coeff,t_indep,t_dep)"
   ]
  },
  {
   "cell_type": "code",
   "execution_count": 50,
   "id": "baef1230-6788-4e7f-9843-55fcaf245d1b",
   "metadata": {},
   "outputs": [
    {
     "data": {
      "text/plain": [
       "tensor([-0.4629,  0.1386,  0.2409, -0.2262, -0.2632, -0.3147,  0.4876,  0.3136,  0.2799, -0.4392,  0.2103,  0.3625], requires_grad=True)"
      ]
     },
     "execution_count": 50,
     "metadata": {},
     "output_type": "execute_result"
    }
   ],
   "source": [
    "## say that coeff needs gradients\n",
    "coeff.requires_grad_()"
   ]
  },
  {
   "cell_type": "code",
   "execution_count": 51,
   "id": "85970e34-018e-47ed-9690-cc561a0fd242",
   "metadata": {},
   "outputs": [],
   "source": [
    "loss = calc_loss(coeff,t_indep,t_dep)"
   ]
  },
  {
   "cell_type": "code",
   "execution_count": 52,
   "id": "fb08cc13-cbd8-4f9c-a9d4-ca218f8d5304",
   "metadata": {},
   "outputs": [
    {
     "data": {
      "text/plain": [
       "tensor(0.6020, dtype=torch.float64, grad_fn=<MeanBackward0>)"
      ]
     },
     "execution_count": 52,
     "metadata": {},
     "output_type": "execute_result"
    }
   ],
   "source": [
    "loss"
   ]
  },
  {
   "cell_type": "code",
   "execution_count": 53,
   "id": "5ac30eb7-d4ba-4e18-a100-9e97285a6633",
   "metadata": {},
   "outputs": [],
   "source": [
    "loss.backward()"
   ]
  },
  {
   "cell_type": "code",
   "execution_count": 54,
   "id": "5c05bc3f-fa5b-4153-8ae1-ed76dfd48c6e",
   "metadata": {},
   "outputs": [
    {
     "data": {
      "text/plain": [
       "tensor([-0.1019,  0.0070, -0.0082, -0.1458, -0.1886,  0.0191, -0.0786,  0.0101, -0.1010, -0.2424, -0.1706,  0.2435])"
      ]
     },
     "execution_count": 54,
     "metadata": {},
     "output_type": "execute_result"
    }
   ],
   "source": [
    "## check the gradients\n",
    "coeff.grad"
   ]
  },
  {
   "cell_type": "code",
   "execution_count": 55,
   "id": "dd9b0a52-3d63-4ef9-bb45-b7d698b96097",
   "metadata": {},
   "outputs": [],
   "source": [
    "## gradients get accumulated. So if we run this again, grad should double"
   ]
  },
  {
   "cell_type": "code",
   "execution_count": 56,
   "id": "a724a8fd-5fbe-4f77-b88a-0ba3b7db928b",
   "metadata": {},
   "outputs": [],
   "source": [
    "loss = calc_loss(coeff,t_indep,t_dep)"
   ]
  },
  {
   "cell_type": "code",
   "execution_count": 57,
   "id": "2e456d42-1d6b-4428-afcc-68d92cd9f97d",
   "metadata": {},
   "outputs": [
    {
     "data": {
      "text/plain": [
       "tensor(0.6020, dtype=torch.float64, grad_fn=<MeanBackward0>)"
      ]
     },
     "execution_count": 57,
     "metadata": {},
     "output_type": "execute_result"
    }
   ],
   "source": [
    "loss"
   ]
  },
  {
   "cell_type": "code",
   "execution_count": 58,
   "id": "f512d32c-6361-4c01-9dbf-e9dfd89b6344",
   "metadata": {},
   "outputs": [],
   "source": [
    "loss.backward()"
   ]
  },
  {
   "cell_type": "code",
   "execution_count": 59,
   "id": "51acb2a5-9ce5-4666-98a4-cf58d240025b",
   "metadata": {},
   "outputs": [
    {
     "data": {
      "text/plain": [
       "tensor([-0.2037,  0.0140, -0.0165, -0.2916, -0.3771,  0.0382, -0.1571,  0.0202, -0.2020, -0.4848, -0.3412,  0.4871])"
      ]
     },
     "execution_count": 59,
     "metadata": {},
     "output_type": "execute_result"
    }
   ],
   "source": [
    "## check the gradients\n",
    "coeff.grad"
   ]
  },
  {
   "cell_type": "code",
   "execution_count": 60,
   "id": "a571119f-7006-4114-ba35-470ae31a89ba",
   "metadata": {},
   "outputs": [
    {
     "name": "stdout",
     "output_type": "stream",
     "text": [
      "current loss=0.6020415945252452\n",
      "new loss=0.5377140172269074\n"
     ]
    }
   ],
   "source": [
    "loss = calc_loss(coeff,t_indep,t_dep) ## find loss\n",
    "loss.backward() ## do backward to get gradient\n",
    "print(f'current loss={loss}')\n",
    "with torch.no_grad():\n",
    "    coeff.sub_(coeff.grad*0.1) ## update by moving a little in the opp. directon of gradient\n",
    "    coeff.grad.zero_()\n",
    "    print(f'new loss={calc_loss(coeff,t_indep,t_dep)}')"
   ]
  },
  {
   "cell_type": "code",
   "execution_count": 61,
   "id": "3357cec5-2d09-4773-9395-c1dee0ba6e29",
   "metadata": {},
   "outputs": [],
   "source": [
    "## now that we have basic idea, split full data into training and testing ##\n",
    "from fastai.data.transforms import RandomSplitter"
   ]
  },
  {
   "cell_type": "code",
   "execution_count": 62,
   "id": "df0f517b-aaaf-46c5-982d-909593b41b5a",
   "metadata": {},
   "outputs": [],
   "source": [
    "train_split,val_split = RandomSplitter(seed=42)(df)"
   ]
  },
  {
   "cell_type": "code",
   "execution_count": 63,
   "id": "0ffeab08-97ed-4b94-bf56-54192b71cd6c",
   "metadata": {},
   "outputs": [
    {
     "data": {
      "text/plain": [
       "((#713) [788,525,821,253,374,98,215,313,281,305...],\n",
       " (#178) [303,778,531,385,134,476,691,443,386,128...])"
      ]
     },
     "execution_count": 63,
     "metadata": {},
     "output_type": "execute_result"
    }
   ],
   "source": [
    "train_split,val_split ## divide instance indices"
   ]
  },
  {
   "cell_type": "code",
   "execution_count": 64,
   "id": "de42742f-c49b-4798-b989-e473b569c8ab",
   "metadata": {},
   "outputs": [],
   "source": [
    "## split data with these indices\n",
    "train_x,train_y = t_indep[train_split],t_dep[train_split]\n",
    "valid_x,valid_y = t_indep[val_split],t_dep[val_split]"
   ]
  },
  {
   "cell_type": "code",
   "execution_count": 65,
   "id": "93bbc761-29e8-4c6b-8f3a-86a599197220",
   "metadata": {},
   "outputs": [
    {
     "data": {
      "text/plain": [
       "(torch.Size([713, 12]),\n",
       " torch.Size([713]),\n",
       " torch.Size([178, 12]),\n",
       " torch.Size([178]))"
      ]
     },
     "execution_count": 65,
     "metadata": {},
     "output_type": "execute_result"
    }
   ],
   "source": [
    "train_x.shape,train_y.shape,valid_x.shape,valid_y.shape"
   ]
  },
  {
   "cell_type": "code",
   "execution_count": 66,
   "id": "cf14643a-a152-40ee-9a79-1518399dcb75",
   "metadata": {},
   "outputs": [],
   "source": [
    "## now package everything into functions\n",
    "def init_coeffs(n_coeff):\n",
    "    return (torch.rand(n_coeff)-0.5).requires_grad_()\n",
    "\n",
    "def update_coeffs(coeffs, lr):\n",
    "    coeffs.sub_(coeffs.grad * lr)\n",
    "    coeffs.grad.zero_()\n",
    "\n",
    "## do one epoch of training\n",
    "def train_one_epoch(coeffs, lr):\n",
    "    loss = calc_loss(coeffs,train_x,train_y)\n",
    "    loss.backward()\n",
    "    with torch.no_grad():\n",
    "        update_coeffs(coeffs,lr)\n",
    "        print(f'current loss={loss:.3f}')\n",
    "\n",
    "def train_model(n_epochs=18, lr=0.01):\n",
    "    torch.manual_seed(442)\n",
    "    my_coeffs = init_coeffs(n_coeff)\n",
    "    for i in range(n_epochs):\n",
    "        train_one_epoch(my_coeffs,lr)\n",
    "    return my_coeffs\n"
   ]
  },
  {
   "cell_type": "code",
   "execution_count": 67,
   "id": "e99d9fc6-c738-4f76-b1d6-3bd5d353abd5",
   "metadata": {},
   "outputs": [
    {
     "name": "stdout",
     "output_type": "stream",
     "text": [
      "current loss=0.598\n",
      "current loss=0.554\n",
      "current loss=0.518\n",
      "current loss=0.485\n",
      "current loss=0.456\n",
      "current loss=0.429\n",
      "current loss=0.404\n",
      "current loss=0.381\n",
      "current loss=0.368\n",
      "current loss=0.366\n",
      "current loss=0.327\n",
      "current loss=0.313\n",
      "current loss=0.311\n",
      "current loss=0.303\n",
      "current loss=0.303\n",
      "current loss=0.289\n",
      "current loss=0.284\n",
      "current loss=0.282\n"
     ]
    }
   ],
   "source": [
    "my_coeffs =  train_model(18,0.2)"
   ]
  },
  {
   "cell_type": "code",
   "execution_count": 68,
   "id": "e0551d7a-aab0-4770-a377-55287d36ba4f",
   "metadata": {},
   "outputs": [],
   "source": [
    "def show_coeffs():\n",
    "    return dict(zip(indep_columns,my_coeffs.requires_grad_(False)))"
   ]
  },
  {
   "cell_type": "code",
   "execution_count": 69,
   "id": "db7490d9-22f9-4bfe-b061-8241667095b3",
   "metadata": {},
   "outputs": [
    {
     "data": {
      "text/plain": [
       "{'Age': tensor(-0.2313),\n",
       " 'SibSp': tensor(0.0923),\n",
       " 'Parch': tensor(0.2388),\n",
       " 'Log-Fare': tensor(0.0857),\n",
       " 'Sex_female': tensor(0.2781),\n",
       " 'Sex_male': tensor(-0.4696),\n",
       " 'Embarked_C': tensor(0.5987),\n",
       " 'Embarked_Q': tensor(0.3871),\n",
       " 'Embarked_S': tensor(0.4818),\n",
       " 'Pclass_1': tensor(0.1880),\n",
       " 'Pclass_2': tensor(0.2299),\n",
       " 'Pclass_3': tensor(0.1022)}"
      ]
     },
     "execution_count": 69,
     "metadata": {},
     "output_type": "execute_result"
    }
   ],
   "source": [
    "show_coeffs()"
   ]
  },
  {
   "cell_type": "code",
   "execution_count": 70,
   "id": "35905a26-5e47-4182-904f-3d44ce293a1b",
   "metadata": {},
   "outputs": [],
   "source": [
    "preds = calc_preds(my_coeffs,valid_x)"
   ]
  },
  {
   "cell_type": "code",
   "execution_count": 71,
   "id": "8db522d8-fd7d-4c50-9872-1568139f03e3",
   "metadata": {},
   "outputs": [],
   "source": [
    "results = valid_y.bool()==(preds>0.5)"
   ]
  },
  {
   "cell_type": "code",
   "execution_count": 72,
   "id": "173cfb29-3695-47ff-a201-0b59c214c8ed",
   "metadata": {},
   "outputs": [
    {
     "data": {
      "text/plain": [
       "tensor(0.7921)"
      ]
     },
     "execution_count": 72,
     "metadata": {},
     "output_type": "execute_result"
    }
   ],
   "source": [
    "results.float().mean() ## aprox 79% accuracy"
   ]
  },
  {
   "cell_type": "code",
   "execution_count": 73,
   "id": "70abce73-bc15-4e57-930b-6c9498b8f249",
   "metadata": {},
   "outputs": [],
   "source": [
    "from sklearn.metrics import classification_report"
   ]
  },
  {
   "cell_type": "code",
   "execution_count": 74,
   "id": "91c984bf-01d6-459a-9460-060bd55c44b4",
   "metadata": {},
   "outputs": [
    {
     "name": "stdout",
     "output_type": "stream",
     "text": [
      "              precision    recall  f1-score   support\n",
      "\n",
      "         0.0       0.81      0.86      0.83       106\n",
      "         1.0       0.77      0.69      0.73        72\n",
      "\n",
      "    accuracy                           0.79       178\n",
      "   macro avg       0.79      0.78      0.78       178\n",
      "weighted avg       0.79      0.79      0.79       178\n",
      "\n"
     ]
    }
   ],
   "source": [
    "print(classification_report(valid_y,(preds>0.5).float()))"
   ]
  },
  {
   "cell_type": "markdown",
   "id": "623401fc-8da2-4f45-ba53-d23efdbff8be",
   "metadata": {},
   "source": [
    "Will this improve if we add sigmoid nonlineariry?"
   ]
  },
  {
   "cell_type": "code",
   "execution_count": 75,
   "id": "062bda90-3dd7-4955-827c-9bed7fc9f2f6",
   "metadata": {},
   "outputs": [],
   "source": [
    "def calc_preds(coeffs,indeps):\n",
    "    return torch.sigmoid((indeps*coeffs).sum(axis=1))"
   ]
  },
  {
   "cell_type": "code",
   "execution_count": 76,
   "id": "e85d99de-2f3a-47bd-9671-6640bf78bc3e",
   "metadata": {},
   "outputs": [
    {
     "name": "stdout",
     "output_type": "stream",
     "text": [
      "current loss=0.513\n",
      "current loss=0.330\n",
      "current loss=0.319\n",
      "current loss=0.268\n",
      "current loss=0.205\n",
      "current loss=0.200\n",
      "current loss=0.198\n",
      "current loss=0.197\n",
      "current loss=0.196\n",
      "current loss=0.196\n",
      "current loss=0.195\n",
      "current loss=0.195\n",
      "current loss=0.195\n",
      "current loss=0.195\n",
      "current loss=0.195\n",
      "current loss=0.194\n",
      "current loss=0.194\n",
      "current loss=0.194\n"
     ]
    }
   ],
   "source": [
    "my_coeffs =  train_model(18,100) ## LR of 0.2 SEEMS small increase"
   ]
  },
  {
   "cell_type": "code",
   "execution_count": 77,
   "id": "8ab460bf-012b-4825-a7db-57ada8b6c713",
   "metadata": {},
   "outputs": [],
   "source": [
    "preds = calc_preds(my_coeffs,valid_x)"
   ]
  },
  {
   "cell_type": "code",
   "execution_count": 78,
   "id": "60e0d881-e359-413a-9ea5-db79063f160f",
   "metadata": {},
   "outputs": [
    {
     "name": "stdout",
     "output_type": "stream",
     "text": [
      "              precision    recall  f1-score   support\n",
      "\n",
      "         0.0       0.79      0.96      0.87       106\n",
      "         1.0       0.92      0.62      0.74        72\n",
      "\n",
      "    accuracy                           0.83       178\n",
      "   macro avg       0.85      0.79      0.81       178\n",
      "weighted avg       0.84      0.83      0.82       178\n",
      "\n"
     ]
    }
   ],
   "source": [
    "print(classification_report(valid_y,(preds>0.5).float()))"
   ]
  },
  {
   "cell_type": "code",
   "execution_count": 79,
   "id": "27a86d5a-ba11-4bfd-85a2-47b86a4246ac",
   "metadata": {},
   "outputs": [],
   "source": [
    "## so non-linearity improved the overall results ##"
   ]
  },
  {
   "cell_type": "code",
   "execution_count": 80,
   "id": "e602b70e-7c49-4bed-9f19-d42501ba56fd",
   "metadata": {},
   "outputs": [
    {
     "data": {
      "text/plain": [
       "{'Age': tensor(-1.4637),\n",
       " 'SibSp': tensor(-0.9308),\n",
       " 'Parch': tensor(-0.3149),\n",
       " 'Log-Fare': tensor(0.3301),\n",
       " 'Sex_female': tensor(8.1685),\n",
       " 'Sex_male': tensor(-10.3195),\n",
       " 'Embarked_C': tensor(1.8637),\n",
       " 'Embarked_Q': tensor(1.8535),\n",
       " 'Embarked_S': tensor(-4.2091),\n",
       " 'Pclass_1': tensor(3.0980),\n",
       " 'Pclass_2': tensor(1.9333),\n",
       " 'Pclass_3': tensor(-6.4706)}"
      ]
     },
     "execution_count": 80,
     "metadata": {},
     "output_type": "execute_result"
    }
   ],
   "source": [
    "show_coeffs()"
   ]
  },
  {
   "cell_type": "code",
   "execution_count": 81,
   "id": "3388b50c-9aec-4dfa-bd76-2d1de83c16d4",
   "metadata": {},
   "outputs": [],
   "source": [
    "## now generate predictions for test set ##\n",
    "test_df = pd.read_csv(path/'test.csv')"
   ]
  },
  {
   "cell_type": "code",
   "execution_count": 82,
   "id": "12abd013-87ef-4981-93a5-87022a108670",
   "metadata": {},
   "outputs": [
    {
     "data": {
      "text/plain": [
       "PassengerId      0\n",
       "Pclass           0\n",
       "Name             0\n",
       "Sex              0\n",
       "Age             86\n",
       "SibSp            0\n",
       "Parch            0\n",
       "Ticket           0\n",
       "Fare             1\n",
       "Cabin          327\n",
       "Embarked         0\n",
       "dtype: int64"
      ]
     },
     "execution_count": 82,
     "metadata": {},
     "output_type": "execute_result"
    }
   ],
   "source": [
    "test_df.isna().sum()"
   ]
  },
  {
   "cell_type": "code",
   "execution_count": 83,
   "id": "688985ab-e24b-4dc5-a120-123f23ecac99",
   "metadata": {},
   "outputs": [],
   "source": [
    "## handle missing values\n",
    "test_df.fillna(modes,inplace=True)\n",
    "test_df['Log-Fare']=np.log(test_df.Fare + 1.0)"
   ]
  },
  {
   "cell_type": "code",
   "execution_count": 84,
   "id": "53c9899b-c23a-4fc5-ab84-c0c629a333a4",
   "metadata": {},
   "outputs": [],
   "source": [
    "test_df = pd.get_dummies(test_df,columns=[\"Sex\", \"Embarked\",\"Pclass\"])"
   ]
  },
  {
   "cell_type": "code",
   "execution_count": 85,
   "id": "1ed20508-55a0-4f5f-841a-61fac38e54ee",
   "metadata": {},
   "outputs": [
    {
     "data": {
      "text/html": [
       "<div>\n",
       "<style scoped>\n",
       "    .dataframe tbody tr th:only-of-type {\n",
       "        vertical-align: middle;\n",
       "    }\n",
       "\n",
       "    .dataframe tbody tr th {\n",
       "        vertical-align: top;\n",
       "    }\n",
       "\n",
       "    .dataframe thead th {\n",
       "        text-align: right;\n",
       "    }\n",
       "</style>\n",
       "<table border=\"1\" class=\"dataframe\">\n",
       "  <thead>\n",
       "    <tr style=\"text-align: right;\">\n",
       "      <th></th>\n",
       "      <th>Age</th>\n",
       "      <th>SibSp</th>\n",
       "      <th>Parch</th>\n",
       "      <th>Log-Fare</th>\n",
       "      <th>Sex_female</th>\n",
       "      <th>Sex_male</th>\n",
       "      <th>Embarked_C</th>\n",
       "      <th>Embarked_Q</th>\n",
       "      <th>Embarked_S</th>\n",
       "      <th>Pclass_1</th>\n",
       "      <th>Pclass_2</th>\n",
       "      <th>Pclass_3</th>\n",
       "    </tr>\n",
       "  </thead>\n",
       "  <tbody>\n",
       "    <tr>\n",
       "      <th>0</th>\n",
       "      <td>34.5</td>\n",
       "      <td>0</td>\n",
       "      <td>0</td>\n",
       "      <td>2.178064</td>\n",
       "      <td>False</td>\n",
       "      <td>True</td>\n",
       "      <td>False</td>\n",
       "      <td>True</td>\n",
       "      <td>False</td>\n",
       "      <td>False</td>\n",
       "      <td>False</td>\n",
       "      <td>True</td>\n",
       "    </tr>\n",
       "    <tr>\n",
       "      <th>1</th>\n",
       "      <td>47.0</td>\n",
       "      <td>1</td>\n",
       "      <td>0</td>\n",
       "      <td>2.079442</td>\n",
       "      <td>True</td>\n",
       "      <td>False</td>\n",
       "      <td>False</td>\n",
       "      <td>False</td>\n",
       "      <td>True</td>\n",
       "      <td>False</td>\n",
       "      <td>False</td>\n",
       "      <td>True</td>\n",
       "    </tr>\n",
       "    <tr>\n",
       "      <th>2</th>\n",
       "      <td>62.0</td>\n",
       "      <td>0</td>\n",
       "      <td>0</td>\n",
       "      <td>2.369075</td>\n",
       "      <td>False</td>\n",
       "      <td>True</td>\n",
       "      <td>False</td>\n",
       "      <td>True</td>\n",
       "      <td>False</td>\n",
       "      <td>False</td>\n",
       "      <td>True</td>\n",
       "      <td>False</td>\n",
       "    </tr>\n",
       "    <tr>\n",
       "      <th>3</th>\n",
       "      <td>27.0</td>\n",
       "      <td>0</td>\n",
       "      <td>0</td>\n",
       "      <td>2.268252</td>\n",
       "      <td>False</td>\n",
       "      <td>True</td>\n",
       "      <td>False</td>\n",
       "      <td>False</td>\n",
       "      <td>True</td>\n",
       "      <td>False</td>\n",
       "      <td>False</td>\n",
       "      <td>True</td>\n",
       "    </tr>\n",
       "    <tr>\n",
       "      <th>4</th>\n",
       "      <td>22.0</td>\n",
       "      <td>1</td>\n",
       "      <td>1</td>\n",
       "      <td>2.586824</td>\n",
       "      <td>True</td>\n",
       "      <td>False</td>\n",
       "      <td>False</td>\n",
       "      <td>False</td>\n",
       "      <td>True</td>\n",
       "      <td>False</td>\n",
       "      <td>False</td>\n",
       "      <td>True</td>\n",
       "    </tr>\n",
       "  </tbody>\n",
       "</table>\n",
       "</div>"
      ],
      "text/plain": [
       "    Age  SibSp  Parch  Log-Fare  Sex_female  Sex_male  Embarked_C  Embarked_Q  Embarked_S  Pclass_1  Pclass_2  Pclass_3\n",
       "0  34.5      0      0  2.178064       False      True       False        True       False     False     False      True\n",
       "1  47.0      1      0  2.079442        True     False       False       False        True     False     False      True\n",
       "2  62.0      0      0  2.369075       False      True       False        True       False     False      True     False\n",
       "3  27.0      0      0  2.268252       False      True       False       False        True     False     False      True\n",
       "4  22.0      1      1  2.586824        True     False       False       False        True     False     False      True"
      ]
     },
     "execution_count": 85,
     "metadata": {},
     "output_type": "execute_result"
    }
   ],
   "source": [
    "test_df[indep_columns].head()"
   ]
  },
  {
   "cell_type": "code",
   "execution_count": 86,
   "id": "05adba03-7a6a-4b1d-8e55-30586dfa6bca",
   "metadata": {},
   "outputs": [],
   "source": [
    "test_x = torch.tensor(test_df[indep_columns].values.astype(float),dtype=torch.float)"
   ]
  },
  {
   "cell_type": "code",
   "execution_count": 87,
   "id": "38e89057-bab7-4cb2-a320-376e023385f4",
   "metadata": {},
   "outputs": [],
   "source": [
    "normalizer, idx = test_x.max(axis=0)"
   ]
  },
  {
   "cell_type": "code",
   "execution_count": 88,
   "id": "13c696ed-8ca5-4aa5-9c48-0d9c98ba88e6",
   "metadata": {},
   "outputs": [],
   "source": [
    "test_x = test_x/normalizer"
   ]
  },
  {
   "cell_type": "code",
   "execution_count": 89,
   "id": "0bc0e961-60e8-4fa4-9f94-bf8c3e4efefe",
   "metadata": {},
   "outputs": [],
   "source": [
    "test_preds = calc_preds(my_coeffs,test_x)"
   ]
  },
  {
   "cell_type": "code",
   "execution_count": 90,
   "id": "31b70a0f-ff21-4d3c-ace2-2d82aedf79a1",
   "metadata": {},
   "outputs": [
    {
     "data": {
      "text/plain": [
       "tensor([    0.0000,     0.0316,     0.0005,     0.0000,     0.0498,     0.0000,     0.9564,     0.0000,     0.9653,     0.0000])"
      ]
     },
     "execution_count": 90,
     "metadata": {},
     "output_type": "execute_result"
    }
   ],
   "source": [
    "test_preds[:10]"
   ]
  },
  {
   "cell_type": "code",
   "execution_count": 91,
   "id": "f164bda4-7eca-4ed4-a45a-f6db2a18d147",
   "metadata": {},
   "outputs": [],
   "source": [
    "test_df['Survived'] = (test_preds>0.5).int()"
   ]
  },
  {
   "cell_type": "code",
   "execution_count": 92,
   "id": "7b053c40-200c-494b-aed8-5dbf82477e69",
   "metadata": {},
   "outputs": [
    {
     "data": {
      "text/html": [
       "<div>\n",
       "<style scoped>\n",
       "    .dataframe tbody tr th:only-of-type {\n",
       "        vertical-align: middle;\n",
       "    }\n",
       "\n",
       "    .dataframe tbody tr th {\n",
       "        vertical-align: top;\n",
       "    }\n",
       "\n",
       "    .dataframe thead th {\n",
       "        text-align: right;\n",
       "    }\n",
       "</style>\n",
       "<table border=\"1\" class=\"dataframe\">\n",
       "  <thead>\n",
       "    <tr style=\"text-align: right;\">\n",
       "      <th></th>\n",
       "      <th>PassengerId</th>\n",
       "      <th>Name</th>\n",
       "      <th>Age</th>\n",
       "      <th>SibSp</th>\n",
       "      <th>Parch</th>\n",
       "      <th>Ticket</th>\n",
       "      <th>Fare</th>\n",
       "      <th>Cabin</th>\n",
       "      <th>Log-Fare</th>\n",
       "      <th>Sex_female</th>\n",
       "      <th>Sex_male</th>\n",
       "      <th>Embarked_C</th>\n",
       "      <th>Embarked_Q</th>\n",
       "      <th>Embarked_S</th>\n",
       "      <th>Pclass_1</th>\n",
       "      <th>Pclass_2</th>\n",
       "      <th>Pclass_3</th>\n",
       "      <th>Survived</th>\n",
       "    </tr>\n",
       "  </thead>\n",
       "  <tbody>\n",
       "    <tr>\n",
       "      <th>0</th>\n",
       "      <td>892</td>\n",
       "      <td>Kelly, Mr. James</td>\n",
       "      <td>34.5</td>\n",
       "      <td>0</td>\n",
       "      <td>0</td>\n",
       "      <td>330911</td>\n",
       "      <td>7.8292</td>\n",
       "      <td>B96 B98</td>\n",
       "      <td>2.178064</td>\n",
       "      <td>False</td>\n",
       "      <td>True</td>\n",
       "      <td>False</td>\n",
       "      <td>True</td>\n",
       "      <td>False</td>\n",
       "      <td>False</td>\n",
       "      <td>False</td>\n",
       "      <td>True</td>\n",
       "      <td>0</td>\n",
       "    </tr>\n",
       "    <tr>\n",
       "      <th>1</th>\n",
       "      <td>893</td>\n",
       "      <td>Wilkes, Mrs. James (Ellen Needs)</td>\n",
       "      <td>47.0</td>\n",
       "      <td>1</td>\n",
       "      <td>0</td>\n",
       "      <td>363272</td>\n",
       "      <td>7.0000</td>\n",
       "      <td>B96 B98</td>\n",
       "      <td>2.079442</td>\n",
       "      <td>True</td>\n",
       "      <td>False</td>\n",
       "      <td>False</td>\n",
       "      <td>False</td>\n",
       "      <td>True</td>\n",
       "      <td>False</td>\n",
       "      <td>False</td>\n",
       "      <td>True</td>\n",
       "      <td>0</td>\n",
       "    </tr>\n",
       "    <tr>\n",
       "      <th>2</th>\n",
       "      <td>894</td>\n",
       "      <td>Myles, Mr. Thomas Francis</td>\n",
       "      <td>62.0</td>\n",
       "      <td>0</td>\n",
       "      <td>0</td>\n",
       "      <td>240276</td>\n",
       "      <td>9.6875</td>\n",
       "      <td>B96 B98</td>\n",
       "      <td>2.369075</td>\n",
       "      <td>False</td>\n",
       "      <td>True</td>\n",
       "      <td>False</td>\n",
       "      <td>True</td>\n",
       "      <td>False</td>\n",
       "      <td>False</td>\n",
       "      <td>True</td>\n",
       "      <td>False</td>\n",
       "      <td>0</td>\n",
       "    </tr>\n",
       "    <tr>\n",
       "      <th>3</th>\n",
       "      <td>895</td>\n",
       "      <td>Wirz, Mr. Albert</td>\n",
       "      <td>27.0</td>\n",
       "      <td>0</td>\n",
       "      <td>0</td>\n",
       "      <td>315154</td>\n",
       "      <td>8.6625</td>\n",
       "      <td>B96 B98</td>\n",
       "      <td>2.268252</td>\n",
       "      <td>False</td>\n",
       "      <td>True</td>\n",
       "      <td>False</td>\n",
       "      <td>False</td>\n",
       "      <td>True</td>\n",
       "      <td>False</td>\n",
       "      <td>False</td>\n",
       "      <td>True</td>\n",
       "      <td>0</td>\n",
       "    </tr>\n",
       "    <tr>\n",
       "      <th>4</th>\n",
       "      <td>896</td>\n",
       "      <td>Hirvonen, Mrs. Alexander (Helga E Lindqvist)</td>\n",
       "      <td>22.0</td>\n",
       "      <td>1</td>\n",
       "      <td>1</td>\n",
       "      <td>3101298</td>\n",
       "      <td>12.2875</td>\n",
       "      <td>B96 B98</td>\n",
       "      <td>2.586824</td>\n",
       "      <td>True</td>\n",
       "      <td>False</td>\n",
       "      <td>False</td>\n",
       "      <td>False</td>\n",
       "      <td>True</td>\n",
       "      <td>False</td>\n",
       "      <td>False</td>\n",
       "      <td>True</td>\n",
       "      <td>0</td>\n",
       "    </tr>\n",
       "  </tbody>\n",
       "</table>\n",
       "</div>"
      ],
      "text/plain": [
       "   PassengerId                                          Name   Age  SibSp  Parch   Ticket     Fare    Cabin  Log-Fare  Sex_female  \\\n",
       "0          892                              Kelly, Mr. James  34.5      0      0   330911   7.8292  B96 B98  2.178064       False   \n",
       "1          893              Wilkes, Mrs. James (Ellen Needs)  47.0      1      0   363272   7.0000  B96 B98  2.079442        True   \n",
       "2          894                     Myles, Mr. Thomas Francis  62.0      0      0   240276   9.6875  B96 B98  2.369075       False   \n",
       "3          895                              Wirz, Mr. Albert  27.0      0      0   315154   8.6625  B96 B98  2.268252       False   \n",
       "4          896  Hirvonen, Mrs. Alexander (Helga E Lindqvist)  22.0      1      1  3101298  12.2875  B96 B98  2.586824        True   \n",
       "\n",
       "   Sex_male  Embarked_C  Embarked_Q  Embarked_S  Pclass_1  Pclass_2  Pclass_3  Survived  \n",
       "0      True       False        True       False     False     False      True         0  \n",
       "1     False       False       False        True     False     False      True         0  \n",
       "2      True       False        True       False     False      True     False         0  \n",
       "3      True       False       False        True     False     False      True         0  \n",
       "4     False       False       False        True     False     False      True         0  "
      ]
     },
     "execution_count": 92,
     "metadata": {},
     "output_type": "execute_result"
    }
   ],
   "source": [
    "test_df.head()"
   ]
  },
  {
   "cell_type": "code",
   "execution_count": 93,
   "id": "3bbe9973-f596-4b1a-b1e2-1e98842dda94",
   "metadata": {},
   "outputs": [],
   "source": [
    "test_df[['PassengerId','Survived']].to_csv(\"submission.csv\",index=False)"
   ]
  },
  {
   "cell_type": "code",
   "execution_count": 94,
   "id": "a69ad8f1-dc95-4e46-9a4b-a04e12ff780c",
   "metadata": {},
   "outputs": [
    {
     "name": "stdout",
     "output_type": "stream",
     "text": [
      "PassengerId,Survived\n",
      "892,0\n",
      "893,0\n",
      "894,0\n",
      "895,0\n",
      "896,0\n",
      "897,0\n",
      "898,1\n",
      "899,0\n",
      "900,1\n"
     ]
    }
   ],
   "source": [
    "!head submission.csv"
   ]
  },
  {
   "cell_type": "code",
   "execution_count": 95,
   "id": "a574fb0a-20cf-4f52-ba9d-11ac9c2ceb17",
   "metadata": {},
   "outputs": [
    {
     "data": {
      "text/plain": [
       "torch.Size([891, 12])"
      ]
     },
     "execution_count": 95,
     "metadata": {},
     "output_type": "execute_result"
    }
   ],
   "source": [
    "(t_indep*my_coeffs).shape"
   ]
  },
  {
   "cell_type": "code",
   "execution_count": 96,
   "id": "3a7c3f75-93bb-45a8-a44c-a5494de04cdc",
   "metadata": {},
   "outputs": [
    {
     "data": {
      "text/plain": [
       "(torch.Size([891, 12]), torch.Size([12]))"
      ]
     },
     "execution_count": 96,
     "metadata": {},
     "output_type": "execute_result"
    }
   ],
   "source": [
    "t_indep.shape,my_coeffs.shape"
   ]
  },
  {
   "cell_type": "code",
   "execution_count": 97,
   "id": "fc02c85c-90d0-4100-9b04-b756d26a3a67",
   "metadata": {},
   "outputs": [
    {
     "data": {
      "text/plain": [
       "torch.Size([891])"
      ]
     },
     "execution_count": 97,
     "metadata": {},
     "output_type": "execute_result"
    }
   ],
   "source": [
    "(t_indep@my_coeffs).shape"
   ]
  },
  {
   "cell_type": "code",
   "execution_count": 98,
   "id": "9b2dcb29-545c-40cc-bfc7-b334da8d4188",
   "metadata": {},
   "outputs": [],
   "source": [
    "def calc_preds(coeffs,indeps):\n",
    "    return torch.sigmoid(indeps@coeffs)"
   ]
  },
  {
   "cell_type": "code",
   "execution_count": 99,
   "id": "f3936f3e-4cb8-4664-a84a-2523410bbd79",
   "metadata": {},
   "outputs": [
    {
     "data": {
      "text/plain": [
       "\u001b[0;31mSignature:\u001b[0m \u001b[0minit_coeffs\u001b[0m\u001b[0;34m(\u001b[0m\u001b[0mn_coeff\u001b[0m\u001b[0;34m)\u001b[0m\u001b[0;34m\u001b[0m\u001b[0;34m\u001b[0m\u001b[0m\n",
       "\u001b[0;31mDocstring:\u001b[0m <no docstring>\n",
       "\u001b[0;31mSource:\u001b[0m   \n",
       "\u001b[0;32mdef\u001b[0m \u001b[0minit_coeffs\u001b[0m\u001b[0;34m(\u001b[0m\u001b[0mn_coeff\u001b[0m\u001b[0;34m)\u001b[0m\u001b[0;34m:\u001b[0m\u001b[0;34m\u001b[0m\n",
       "\u001b[0;34m\u001b[0m    \u001b[0;32mreturn\u001b[0m \u001b[0;34m(\u001b[0m\u001b[0mtorch\u001b[0m\u001b[0;34m.\u001b[0m\u001b[0mrand\u001b[0m\u001b[0;34m(\u001b[0m\u001b[0mn_coeff\u001b[0m\u001b[0;34m)\u001b[0m\u001b[0;34m-\u001b[0m\u001b[0;36m0.5\u001b[0m\u001b[0;34m)\u001b[0m\u001b[0;34m.\u001b[0m\u001b[0mrequires_grad_\u001b[0m\u001b[0;34m(\u001b[0m\u001b[0;34m)\u001b[0m\u001b[0;34m\u001b[0m\u001b[0;34m\u001b[0m\u001b[0m\n",
       "\u001b[0;31mFile:\u001b[0m      /tmp/ipykernel_6617/1353086941.py\n",
       "\u001b[0;31mType:\u001b[0m      function"
      ]
     },
     "metadata": {},
     "output_type": "display_data"
    }
   ],
   "source": [
    "??init_coeffs"
   ]
  },
  {
   "cell_type": "code",
   "execution_count": 100,
   "id": "807131d9-5cf4-4a2c-9f31-31b9172f7b3b",
   "metadata": {},
   "outputs": [],
   "source": [
    "def init_coeffs(n_coeff):\n",
    "    return (torch.randn(n_coeff,1)*0.1).requires_grad_()"
   ]
  },
  {
   "cell_type": "code",
   "execution_count": 101,
   "id": "a846214c-aab1-45eb-a84e-a7f256a0e012",
   "metadata": {},
   "outputs": [],
   "source": [
    "train_y = train_y[:,None]\n",
    "valid_y = valid_y[:,None]"
   ]
  },
  {
   "cell_type": "code",
   "execution_count": 102,
   "id": "1b07626e-1ac0-4f53-8ec6-805a6e00dfbc",
   "metadata": {
    "scrolled": true
   },
   "outputs": [
    {
     "name": "stdout",
     "output_type": "stream",
     "text": [
      "current loss=0.501\n",
      "current loss=0.326\n",
      "current loss=0.312\n",
      "current loss=0.233\n",
      "current loss=0.202\n",
      "current loss=0.199\n",
      "current loss=0.198\n",
      "current loss=0.197\n",
      "current loss=0.196\n",
      "current loss=0.196\n",
      "current loss=0.196\n",
      "current loss=0.195\n",
      "current loss=0.195\n",
      "current loss=0.195\n",
      "current loss=0.195\n",
      "current loss=0.195\n",
      "current loss=0.194\n",
      "current loss=0.194\n"
     ]
    }
   ],
   "source": [
    "my_coeffs = train_model(lr=100)"
   ]
  },
  {
   "cell_type": "code",
   "execution_count": 108,
   "id": "789a6cfb-c51e-4b9f-8db5-38940ced4b39",
   "metadata": {},
   "outputs": [],
   "source": [
    "def acc(coeffs):\n",
    "    return ((calc_preds(coeffs,valid_x)>0.5).float()==valid_y).float().mean()"
   ]
  },
  {
   "cell_type": "code",
   "execution_count": 109,
   "id": "a8d6320d-6a59-4c01-9f92-75e12a25e257",
   "metadata": {},
   "outputs": [
    {
     "data": {
      "text/plain": [
       "tensor(0.8258)"
      ]
     },
     "execution_count": 109,
     "metadata": {},
     "output_type": "execute_result"
    }
   ],
   "source": [
    "acc(my_coeffs)"
   ]
  },
  {
   "cell_type": "code",
   "execution_count": 110,
   "id": "10443609-a8d7-46b4-92f7-e785202a2710",
   "metadata": {},
   "outputs": [],
   "source": [
    "## now we extend it to multi-layer neural net ##\n",
    "## assume 2 layers ; layer1 = n_coeff x n_hidden; layer 2 is n_hidden x 1 ; also layer2 will need a bias term"
   ]
  },
  {
   "cell_type": "code",
   "execution_count": 212,
   "id": "de3734c9-f74f-449f-b51e-f4b21dbfd766",
   "metadata": {},
   "outputs": [],
   "source": [
    "def init_coeffs(n_coeff=12, n_hidden = 20):\n",
    "    layer1 = torch.randn(n_coeff,n_hidden)*0.1\n",
    "    layer2 = torch.randn(n_hidden,1)*0.1\n",
    "    const = torch.randn(1)[0]\n",
    "    print(layer1.shape,layer2.shape)\n",
    "    return layer1.requires_grad_(),layer2.requires_grad_(),const.requires_grad_()"
   ]
  },
  {
   "cell_type": "code",
   "execution_count": 213,
   "id": "58bddb67-c90d-411c-b0f5-e9af2325dc52",
   "metadata": {},
   "outputs": [],
   "source": [
    "import torch.nn.functional as F"
   ]
  },
  {
   "cell_type": "code",
   "execution_count": 214,
   "id": "2e3c7f27-64e3-4268-b2be-633a0dbde16d",
   "metadata": {},
   "outputs": [],
   "source": [
    "## use multilayer\n",
    "def calc_preds(coeffs,indeps):\n",
    "    layer1, layer2, bias2 = coeffs\n",
    "    res = F.relu(indeps@layer1)\n",
    "    return F.sigmoid((res@layer2)+bias2)\n",
    "   "
   ]
  },
  {
   "cell_type": "code",
   "execution_count": 215,
   "id": "c7daeab9-0b64-4c1e-8a32-bfe79148eeae",
   "metadata": {},
   "outputs": [],
   "source": [
    "## update each layer\n",
    "def update_coeffs(coeffs, lr):\n",
    "    for layer in coeffs:\n",
    "        layer.sub_(layer.grad * lr)\n",
    "        layer.grad.zero_()"
   ]
  },
  {
   "cell_type": "code",
   "execution_count": 216,
   "id": "a61edad8-7b35-4344-9a78-4fac5bbccd49",
   "metadata": {},
   "outputs": [],
   "source": [
    "def train_model(param_shape=(12,20),n_epochs=18, lr=0.01):\n",
    "    torch.manual_seed(442)\n",
    "    my_coeffs = init_coeffs(n_coeff=param_shape[0],n_hidden=param_shape[1])\n",
    "    for i in range(n_epochs):\n",
    "        train_one_epoch(my_coeffs,lr)\n",
    "    return my_coeffs"
   ]
  },
  {
   "cell_type": "code",
   "execution_count": 225,
   "id": "251361d5-dec5-4a3c-8c23-4d2ffab3c3c4",
   "metadata": {},
   "outputs": [
    {
     "name": "stdout",
     "output_type": "stream",
     "text": [
      "torch.Size([12, 20]) torch.Size([20, 1])\n",
      "current loss=0.598\n",
      "current loss=0.527\n",
      "current loss=0.358\n",
      "current loss=0.310\n",
      "current loss=0.231\n",
      "current loss=0.215\n",
      "current loss=0.204\n",
      "current loss=0.217\n",
      "current loss=0.214\n",
      "current loss=0.213\n",
      "current loss=0.199\n",
      "current loss=0.206\n",
      "current loss=0.216\n",
      "current loss=0.214\n",
      "current loss=0.209\n",
      "current loss=0.194\n",
      "current loss=0.193\n",
      "current loss=0.193\n"
     ]
    }
   ],
   "source": [
    "my_coeffs = train_model(param_shape=(12,20),lr=30)"
   ]
  },
  {
   "cell_type": "code",
   "execution_count": 226,
   "id": "260652fc-e107-4f77-bc61-67cc5b9d154b",
   "metadata": {},
   "outputs": [
    {
     "data": {
      "text/plain": [
       "tensor(0.8258)"
      ]
     },
     "execution_count": 226,
     "metadata": {},
     "output_type": "execute_result"
    }
   ],
   "source": [
    "acc(my_coeffs)"
   ]
  },
  {
   "cell_type": "code",
   "execution_count": 227,
   "id": "d5e1d216-31a2-4778-a36b-c91d3e14b00d",
   "metadata": {},
   "outputs": [
    {
     "data": {
      "text/plain": [
       "(torch.Size([12, 20]), torch.Size([20, 1]), torch.Size([]))"
      ]
     },
     "execution_count": 227,
     "metadata": {},
     "output_type": "execute_result"
    }
   ],
   "source": [
    "my_coeffs[0].shape,my_coeffs[1].shape,my_coeffs[2].shape"
   ]
  },
  {
   "cell_type": "markdown",
   "id": "4e9af363-d20b-47e2-a458-593f3bec4267",
   "metadata": {},
   "source": [
    "We note that multilayer NN is not improving results in this case. This is because it is such a small tabular dataset. We also see that manually tweaking learning rate is a problem which frameworks like fast.ai solves for us"
   ]
  }
 ],
 "metadata": {
  "kernelspec": {
   "display_name": "Python 3 (ipykernel)",
   "language": "python",
   "name": "python3"
  },
  "language_info": {
   "codemirror_mode": {
    "name": "ipython",
    "version": 3
   },
   "file_extension": ".py",
   "mimetype": "text/x-python",
   "name": "python",
   "nbconvert_exporter": "python",
   "pygments_lexer": "ipython3",
   "version": "3.12.3"
  }
 },
 "nbformat": 4,
 "nbformat_minor": 5
}
